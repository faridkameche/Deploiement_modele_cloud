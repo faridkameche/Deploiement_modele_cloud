{
 "cells": [
  {
   "cell_type": "markdown",
   "id": "83a0a132",
   "metadata": {},
   "source": [
    "<h3 align=\"center\"><font size=\"6.5\">Projet 8 : Déployez un modèle dans le cloud</font></h3>\n",
    "\n",
    "<h3 align=\"center\"><font size=\"5\">Analyse des vecteurs</font></h3>\n",
    "\n",
    "* [Chapitre 1 : Importation des données](#chapter1)\n",
    "    * [Librairies et données](#section_1_1)\n",
    "    * [Conversion des données](#section_1_2)\n",
    "       \n",
    "* [Chapitre 2 : Analyse des données](#chapter2)\n",
    "    * [Création de fonction](#section_2_1)\n",
    "    * [Optimisation de la perpléxité](#section_2_2)\n",
    "    * [Représentation graphique](#section_2_3)\n",
    "    * [Matrice de confusion](#section_2_4)"
   ]
  },
  {
   "cell_type": "markdown",
   "id": "b2e0fd2d",
   "metadata": {},
   "source": [
    "<a class=\"anchor\" id=\"chapter1\"></a>\n",
    "# Chapitre 1 : Importation des données\n",
    "Nous allons travailler sur les résultats obtenus après transformation d'images en un ensemble de vecteurs. Ces résultats ont été obtenus en utilisant un premier script et exécuté sur le cloud. Nous allons commencer par importer les librairies dont nous avons besoin ainsi que des résultats de la featurization.\n",
    "\n",
    "<a class=\"anchor\" id=\"section_1_1\"></a>\n",
    "## Librairies et données"
   ]
  },
  {
   "cell_type": "code",
   "execution_count": 1,
   "id": "1ab15972",
   "metadata": {},
   "outputs": [],
   "source": [
    "# Nous allons avoir besoin de calculer un KMeans ainsi que le score ARI. \n",
    "# Pour éviter l'afficher d'un message d'avertissement, nous modifions un paramètre d'environnement système.\n",
    "\n",
    "import os\n",
    "\n",
    "os.environ[\"OMP_NUM_THREADS\"]=\"2\"\n",
    "\n",
    "import pandas as pd\n",
    "import numpy as np\n",
    "import matplotlib.pyplot as plt\n",
    "import seaborn as sns\n",
    "\n",
    "from sklearn import cluster, metrics, manifold, decomposition, preprocessing, manifold\n",
    "from sklearn.cluster import KMeans, MiniBatchKMeans\n",
    "\n",
    "from scipy.optimize import linear_sum_assignment\n",
    "from matplotlib import colors\n",
    "\n",
    "resultat = pd.read_csv(\"resultats_featurize.csv\", low_memory=False, index_col=0)"
   ]
  },
  {
   "cell_type": "code",
   "execution_count": 2,
   "id": "6735def5",
   "metadata": {},
   "outputs": [
    {
     "name": "stdout",
     "output_type": "stream",
     "text": [
      "<class 'pandas.core.frame.DataFrame'>\n",
      "RangeIndex: 373 entries, 0 to 372\n",
      "Data columns (total 3 columns):\n",
      " #   Column        Non-Null Count  Dtype \n",
      "---  ------        --------------  ----- \n",
      " 0   path          373 non-null    object\n",
      " 1   label         373 non-null    object\n",
      " 2   pca_features  373 non-null    object\n",
      "dtypes: object(3)\n",
      "memory usage: 8.9+ KB\n"
     ]
    }
   ],
   "source": [
    "resultat = resultat.sort_values(\"label\").reset_index(drop=True)\n",
    "\n",
    "resultat.info()"
   ]
  },
  {
   "cell_type": "code",
   "execution_count": 3,
   "id": "42b8acfa",
   "metadata": {},
   "outputs": [
    {
     "data": {
      "text/html": [
       "<div>\n",
       "<style scoped>\n",
       "    .dataframe tbody tr th:only-of-type {\n",
       "        vertical-align: middle;\n",
       "    }\n",
       "\n",
       "    .dataframe tbody tr th {\n",
       "        vertical-align: top;\n",
       "    }\n",
       "\n",
       "    .dataframe thead th {\n",
       "        text-align: right;\n",
       "    }\n",
       "</style>\n",
       "<table border=\"1\" class=\"dataframe\">\n",
       "  <thead>\n",
       "    <tr style=\"text-align: right;\">\n",
       "      <th></th>\n",
       "      <th>path</th>\n",
       "      <th>label</th>\n",
       "      <th>pca_features</th>\n",
       "    </tr>\n",
       "  </thead>\n",
       "  <tbody>\n",
       "    <tr>\n",
       "      <th>0</th>\n",
       "      <td>s3://fk-p8-fruits/test/Apple Braeburn/r_39_100...</td>\n",
       "      <td>Apple Braeburn</td>\n",
       "      <td>[-3.51764843e+00 -1.79583510e+01 -1.69648453e+...</td>\n",
       "    </tr>\n",
       "    <tr>\n",
       "      <th>1</th>\n",
       "      <td>s3://fk-p8-fruits/test/Apple Braeburn/36_100.jpg</td>\n",
       "      <td>Apple Braeburn</td>\n",
       "      <td>[-3.03779535e+00 -1.75055389e+01 -1.04790522e+...</td>\n",
       "    </tr>\n",
       "    <tr>\n",
       "      <th>2</th>\n",
       "      <td>s3://fk-p8-fruits/test/Apple Braeburn/52_100.jpg</td>\n",
       "      <td>Apple Braeburn</td>\n",
       "      <td>[-4.26253206e+00 -1.65799452e+01 -1.69864460e+...</td>\n",
       "    </tr>\n",
       "    <tr>\n",
       "      <th>3</th>\n",
       "      <td>s3://fk-p8-fruits/test/Apple Braeburn/r_3_100.jpg</td>\n",
       "      <td>Apple Braeburn</td>\n",
       "      <td>[ -3.20796669 -13.16585459   0.8400425    6.51...</td>\n",
       "    </tr>\n",
       "    <tr>\n",
       "      <th>4</th>\n",
       "      <td>s3://fk-p8-fruits/test/Apple Braeburn/8_100.jpg</td>\n",
       "      <td>Apple Braeburn</td>\n",
       "      <td>[ -2.77875951 -17.62457099  -1.05174974   5.38...</td>\n",
       "    </tr>\n",
       "  </tbody>\n",
       "</table>\n",
       "</div>"
      ],
      "text/plain": [
       "                                                path           label  \\\n",
       "0  s3://fk-p8-fruits/test/Apple Braeburn/r_39_100...  Apple Braeburn   \n",
       "1   s3://fk-p8-fruits/test/Apple Braeburn/36_100.jpg  Apple Braeburn   \n",
       "2   s3://fk-p8-fruits/test/Apple Braeburn/52_100.jpg  Apple Braeburn   \n",
       "3  s3://fk-p8-fruits/test/Apple Braeburn/r_3_100.jpg  Apple Braeburn   \n",
       "4    s3://fk-p8-fruits/test/Apple Braeburn/8_100.jpg  Apple Braeburn   \n",
       "\n",
       "                                        pca_features  \n",
       "0  [-3.51764843e+00 -1.79583510e+01 -1.69648453e+...  \n",
       "1  [-3.03779535e+00 -1.75055389e+01 -1.04790522e+...  \n",
       "2  [-4.26253206e+00 -1.65799452e+01 -1.69864460e+...  \n",
       "3  [ -3.20796669 -13.16585459   0.8400425    6.51...  \n",
       "4  [ -2.77875951 -17.62457099  -1.05174974   5.38...  "
      ]
     },
     "execution_count": 3,
     "metadata": {},
     "output_type": "execute_result"
    }
   ],
   "source": [
    "resultat.head()"
   ]
  },
  {
   "cell_type": "markdown",
   "id": "58b93fcc",
   "metadata": {},
   "source": [
    "Nous voyons que la variable pca_features qui contient les vecteurs à étudier sont sous format \"string\". Nous allons convertir cette variable en variable numérique.\n",
    "<a class=\"anchor\" id=\"section_1_2\"></a>\n",
    "## Conversion des données\n",
    "\n",
    "Nous supprimons quelques caractéres qui ne devraient pas apparaître et nous ferons ensuite une séparation de cette variable en plusieurs variables contenant chacune une coordonnées des vecteurs."
   ]
  },
  {
   "cell_type": "code",
   "execution_count": 4,
   "id": "3fc4d25f",
   "metadata": {},
   "outputs": [],
   "source": [
    "resultat[\"pca_features\"] = resultat[\"pca_features\"].replace(r\"\\n\", \"\", regex = True)\n",
    "resultat[\"pca_features\"] = resultat[\"pca_features\"].replace(r\"\\[  \", \"[\", regex = True)\n",
    "resultat[\"pca_features\"] = resultat[\"pca_features\"].replace(r\"\\[ \", \"[\", regex = True)\n",
    "\n",
    "resultat[\"pca_features\"] = resultat[\"pca_features\"].replace(r\"\\[\", \"\", regex = True)\n",
    "resultat[\"pca_features\"] = resultat[\"pca_features\"].replace(r\"\\]\", \"\", regex = True)\n",
    "resultat[\"pca_features\"] = resultat[\"pca_features\"].replace(r\"      \", \" \", regex = True)\n",
    "resultat[\"pca_features\"] = resultat[\"pca_features\"].replace(r\"     \", \" \", regex = True)\n",
    "resultat[\"pca_features\"] = resultat[\"pca_features\"].replace(r\"    \", \" \", regex = True)\n",
    "resultat[\"pca_features\"] = resultat[\"pca_features\"].replace(r\"   \", \" \", regex = True)\n",
    "resultat[\"pca_features\"] = resultat[\"pca_features\"].replace(r\"  \", \" \", regex = True)"
   ]
  },
  {
   "cell_type": "code",
   "execution_count": 5,
   "id": "b358e208",
   "metadata": {},
   "outputs": [],
   "source": [
    "val = resultat[\"pca_features\"].str.split((\" \"), expand=True)"
   ]
  },
  {
   "cell_type": "code",
   "execution_count": 6,
   "id": "76ab0dd9",
   "metadata": {},
   "outputs": [
    {
     "data": {
      "text/html": [
       "<div>\n",
       "<style scoped>\n",
       "    .dataframe tbody tr th:only-of-type {\n",
       "        vertical-align: middle;\n",
       "    }\n",
       "\n",
       "    .dataframe tbody tr th {\n",
       "        vertical-align: top;\n",
       "    }\n",
       "\n",
       "    .dataframe thead th {\n",
       "        text-align: right;\n",
       "    }\n",
       "</style>\n",
       "<table border=\"1\" class=\"dataframe\">\n",
       "  <thead>\n",
       "    <tr style=\"text-align: right;\">\n",
       "      <th></th>\n",
       "      <th>0</th>\n",
       "      <th>1</th>\n",
       "      <th>2</th>\n",
       "      <th>3</th>\n",
       "      <th>4</th>\n",
       "      <th>5</th>\n",
       "      <th>6</th>\n",
       "      <th>7</th>\n",
       "      <th>8</th>\n",
       "      <th>9</th>\n",
       "      <th>...</th>\n",
       "      <th>58</th>\n",
       "      <th>59</th>\n",
       "      <th>60</th>\n",
       "      <th>61</th>\n",
       "      <th>62</th>\n",
       "      <th>63</th>\n",
       "      <th>64</th>\n",
       "      <th>65</th>\n",
       "      <th>66</th>\n",
       "      <th>67</th>\n",
       "    </tr>\n",
       "  </thead>\n",
       "  <tbody>\n",
       "    <tr>\n",
       "      <th>0</th>\n",
       "      <td>-3.51764843e+00</td>\n",
       "      <td>-1.79583510e+01</td>\n",
       "      <td>-1.69648453e+00</td>\n",
       "      <td>5.96889932e+00</td>\n",
       "      <td>5.05406935e+00</td>\n",
       "      <td>-2.17138215e+00</td>\n",
       "      <td>-2.56781763e+00</td>\n",
       "      <td>-7.70121302e+00</td>\n",
       "      <td>5.40846361e+00</td>\n",
       "      <td>1.38321964e+00</td>\n",
       "      <td>...</td>\n",
       "      <td>-9.57458000e-02</td>\n",
       "      <td>-4.84835782e-01</td>\n",
       "      <td>-4.54153675e-01</td>\n",
       "      <td>3.11838910e-01</td>\n",
       "      <td>-8.12663955e-01</td>\n",
       "      <td>-4.82205344e-01</td>\n",
       "      <td>-1.12393138e+00</td>\n",
       "      <td>-4.10883714e-01</td>\n",
       "      <td>3.36216471e-01</td>\n",
       "      <td>None</td>\n",
       "    </tr>\n",
       "    <tr>\n",
       "      <th>1</th>\n",
       "      <td>-3.03779535e+00</td>\n",
       "      <td>-1.75055389e+01</td>\n",
       "      <td>-1.04790522e+00</td>\n",
       "      <td>4.73509725e+00</td>\n",
       "      <td>7.37673055e+00</td>\n",
       "      <td>-1.99883670e+00</td>\n",
       "      <td>-3.35776386e+00</td>\n",
       "      <td>-3.85399010e+00</td>\n",
       "      <td>-2.60512089e+00</td>\n",
       "      <td>2.32928081e+00</td>\n",
       "      <td>...</td>\n",
       "      <td>3.72636765e-01</td>\n",
       "      <td>-3.26005444e-01</td>\n",
       "      <td>-4.25532635e-01</td>\n",
       "      <td>3.16735947e-01</td>\n",
       "      <td>-1.11533613e+00</td>\n",
       "      <td>-9.57212953e-04</td>\n",
       "      <td>-1.05737760e+00</td>\n",
       "      <td>-1.33477240e+00</td>\n",
       "      <td>4.11130164e-01</td>\n",
       "      <td>None</td>\n",
       "    </tr>\n",
       "    <tr>\n",
       "      <th>2</th>\n",
       "      <td>-4.26253206e+00</td>\n",
       "      <td>-1.65799452e+01</td>\n",
       "      <td>-1.69864460e+00</td>\n",
       "      <td>5.67362677e+00</td>\n",
       "      <td>7.99277983e+00</td>\n",
       "      <td>-1.61199065e+00</td>\n",
       "      <td>-2.80005249e+00</td>\n",
       "      <td>-5.05391363e+00</td>\n",
       "      <td>-4.46647775e+00</td>\n",
       "      <td>2.91007602e+00</td>\n",
       "      <td>...</td>\n",
       "      <td>3.11203112e-01</td>\n",
       "      <td>-4.00543404e-03</td>\n",
       "      <td>-3.81074733e-01</td>\n",
       "      <td>3.42275299e-01</td>\n",
       "      <td>-9.79100975e-01</td>\n",
       "      <td>6.18079967e-02</td>\n",
       "      <td>-7.84397004e-01</td>\n",
       "      <td>-1.75540538e-01</td>\n",
       "      <td>-1.72444124e-01</td>\n",
       "      <td>None</td>\n",
       "    </tr>\n",
       "    <tr>\n",
       "      <th>3</th>\n",
       "      <td>-3.20796669</td>\n",
       "      <td>-13.16585459</td>\n",
       "      <td>0.8400425</td>\n",
       "      <td>6.51061084</td>\n",
       "      <td>1.45369041</td>\n",
       "      <td>-0.44824147</td>\n",
       "      <td>-1.87767323</td>\n",
       "      <td>-12.68443483</td>\n",
       "      <td>1.85100215</td>\n",
       "      <td>3.08001401</td>\n",
       "      <td>...</td>\n",
       "      <td>0.22855072</td>\n",
       "      <td>0.18375805</td>\n",
       "      <td>-0.97399732</td>\n",
       "      <td>0.48562016</td>\n",
       "      <td>-0.78676305</td>\n",
       "      <td>-0.08809656</td>\n",
       "      <td>-0.3135231</td>\n",
       "      <td>-0.18992845</td>\n",
       "      <td>0.99472126</td>\n",
       "      <td>None</td>\n",
       "    </tr>\n",
       "    <tr>\n",
       "      <th>4</th>\n",
       "      <td>-2.77875951</td>\n",
       "      <td>-17.62457099</td>\n",
       "      <td>-1.05174974</td>\n",
       "      <td>5.38084601</td>\n",
       "      <td>7.33903575</td>\n",
       "      <td>-2.22747396</td>\n",
       "      <td>-2.84646922</td>\n",
       "      <td>-4.62587811</td>\n",
       "      <td>-1.27385703</td>\n",
       "      <td>2.66923742</td>\n",
       "      <td>...</td>\n",
       "      <td>0.22040726</td>\n",
       "      <td>-0.29876037</td>\n",
       "      <td>-0.28574615</td>\n",
       "      <td>0.45545402</td>\n",
       "      <td>-1.06875839</td>\n",
       "      <td>-0.10851142</td>\n",
       "      <td>-1.27800706</td>\n",
       "      <td>-0.82505297</td>\n",
       "      <td>0.31744268</td>\n",
       "      <td>None</td>\n",
       "    </tr>\n",
       "  </tbody>\n",
       "</table>\n",
       "<p>5 rows × 68 columns</p>\n",
       "</div>"
      ],
      "text/plain": [
       "                0                1                2               3   \\\n",
       "0  -3.51764843e+00  -1.79583510e+01  -1.69648453e+00  5.96889932e+00   \n",
       "1  -3.03779535e+00  -1.75055389e+01  -1.04790522e+00  4.73509725e+00   \n",
       "2  -4.26253206e+00  -1.65799452e+01  -1.69864460e+00  5.67362677e+00   \n",
       "3      -3.20796669     -13.16585459        0.8400425      6.51061084   \n",
       "4      -2.77875951     -17.62457099      -1.05174974      5.38084601   \n",
       "\n",
       "               4                5                6                7   \\\n",
       "0  5.05406935e+00  -2.17138215e+00  -2.56781763e+00  -7.70121302e+00   \n",
       "1  7.37673055e+00  -1.99883670e+00  -3.35776386e+00  -3.85399010e+00   \n",
       "2  7.99277983e+00  -1.61199065e+00  -2.80005249e+00  -5.05391363e+00   \n",
       "3      1.45369041      -0.44824147      -1.87767323     -12.68443483   \n",
       "4      7.33903575      -2.22747396      -2.84646922      -4.62587811   \n",
       "\n",
       "                8               9   ...               58               59  \\\n",
       "0   5.40846361e+00  1.38321964e+00  ...  -9.57458000e-02  -4.84835782e-01   \n",
       "1  -2.60512089e+00  2.32928081e+00  ...   3.72636765e-01  -3.26005444e-01   \n",
       "2  -4.46647775e+00  2.91007602e+00  ...   3.11203112e-01  -4.00543404e-03   \n",
       "3       1.85100215      3.08001401  ...       0.22855072       0.18375805   \n",
       "4      -1.27385703      2.66923742  ...       0.22040726      -0.29876037   \n",
       "\n",
       "                60              61               62               63  \\\n",
       "0  -4.54153675e-01  3.11838910e-01  -8.12663955e-01  -4.82205344e-01   \n",
       "1  -4.25532635e-01  3.16735947e-01  -1.11533613e+00  -9.57212953e-04   \n",
       "2  -3.81074733e-01  3.42275299e-01  -9.79100975e-01   6.18079967e-02   \n",
       "3      -0.97399732      0.48562016      -0.78676305      -0.08809656   \n",
       "4      -0.28574615      0.45545402      -1.06875839      -0.10851142   \n",
       "\n",
       "                64               65               66    67  \n",
       "0  -1.12393138e+00  -4.10883714e-01   3.36216471e-01  None  \n",
       "1  -1.05737760e+00  -1.33477240e+00   4.11130164e-01  None  \n",
       "2  -7.84397004e-01  -1.75540538e-01  -1.72444124e-01  None  \n",
       "3       -0.3135231      -0.18992845       0.99472126  None  \n",
       "4      -1.27800706      -0.82505297       0.31744268  None  \n",
       "\n",
       "[5 rows x 68 columns]"
      ]
     },
     "execution_count": 6,
     "metadata": {},
     "output_type": "execute_result"
    }
   ],
   "source": [
    "val.head()"
   ]
  },
  {
   "cell_type": "markdown",
   "id": "b70421b1",
   "metadata": {},
   "source": [
    "Nous avons réussi à créer un tableau de vecteur mais nous avons 68 colonnes au lieu de 67 colonnes. Nous regardons ce que contient la dernière colonne. Si celle-ci ne contient aucune valeur numérique, alors nous la supprimerons."
   ]
  },
  {
   "cell_type": "code",
   "execution_count": 7,
   "id": "1a5bdb39",
   "metadata": {},
   "outputs": [
    {
     "data": {
      "text/plain": [
       "array([None, ''], dtype=object)"
      ]
     },
     "execution_count": 7,
     "metadata": {},
     "output_type": "execute_result"
    }
   ],
   "source": [
    "val[67].unique()"
   ]
  },
  {
   "cell_type": "markdown",
   "id": "8705aa20",
   "metadata": {},
   "source": [
    "Nous allons supprimer la dernière colonne qui ne contient rien et convertir les 67 colonnes en valeurs numériques."
   ]
  },
  {
   "cell_type": "code",
   "execution_count": 8,
   "id": "df96ac77",
   "metadata": {},
   "outputs": [
    {
     "data": {
      "text/html": [
       "<div>\n",
       "<style scoped>\n",
       "    .dataframe tbody tr th:only-of-type {\n",
       "        vertical-align: middle;\n",
       "    }\n",
       "\n",
       "    .dataframe tbody tr th {\n",
       "        vertical-align: top;\n",
       "    }\n",
       "\n",
       "    .dataframe thead th {\n",
       "        text-align: right;\n",
       "    }\n",
       "</style>\n",
       "<table border=\"1\" class=\"dataframe\">\n",
       "  <thead>\n",
       "    <tr style=\"text-align: right;\">\n",
       "      <th></th>\n",
       "      <th>0</th>\n",
       "      <th>1</th>\n",
       "      <th>2</th>\n",
       "      <th>3</th>\n",
       "      <th>4</th>\n",
       "      <th>5</th>\n",
       "      <th>6</th>\n",
       "      <th>7</th>\n",
       "      <th>8</th>\n",
       "      <th>9</th>\n",
       "      <th>...</th>\n",
       "      <th>57</th>\n",
       "      <th>58</th>\n",
       "      <th>59</th>\n",
       "      <th>60</th>\n",
       "      <th>61</th>\n",
       "      <th>62</th>\n",
       "      <th>63</th>\n",
       "      <th>64</th>\n",
       "      <th>65</th>\n",
       "      <th>66</th>\n",
       "    </tr>\n",
       "  </thead>\n",
       "  <tbody>\n",
       "    <tr>\n",
       "      <th>0</th>\n",
       "      <td>-3.517648</td>\n",
       "      <td>-17.958351</td>\n",
       "      <td>-1.696485</td>\n",
       "      <td>5.968899</td>\n",
       "      <td>5.054069</td>\n",
       "      <td>-2.171382</td>\n",
       "      <td>-2.567818</td>\n",
       "      <td>-7.701213</td>\n",
       "      <td>5.408464</td>\n",
       "      <td>1.383220</td>\n",
       "      <td>...</td>\n",
       "      <td>1.322952</td>\n",
       "      <td>-0.095746</td>\n",
       "      <td>-0.484836</td>\n",
       "      <td>-0.454154</td>\n",
       "      <td>0.311839</td>\n",
       "      <td>-0.812664</td>\n",
       "      <td>-0.482205</td>\n",
       "      <td>-1.123931</td>\n",
       "      <td>-0.410884</td>\n",
       "      <td>0.336216</td>\n",
       "    </tr>\n",
       "    <tr>\n",
       "      <th>1</th>\n",
       "      <td>-3.037795</td>\n",
       "      <td>-17.505539</td>\n",
       "      <td>-1.047905</td>\n",
       "      <td>4.735097</td>\n",
       "      <td>7.376731</td>\n",
       "      <td>-1.998837</td>\n",
       "      <td>-3.357764</td>\n",
       "      <td>-3.853990</td>\n",
       "      <td>-2.605121</td>\n",
       "      <td>2.329281</td>\n",
       "      <td>...</td>\n",
       "      <td>0.875151</td>\n",
       "      <td>0.372637</td>\n",
       "      <td>-0.326005</td>\n",
       "      <td>-0.425533</td>\n",
       "      <td>0.316736</td>\n",
       "      <td>-1.115336</td>\n",
       "      <td>-0.000957</td>\n",
       "      <td>-1.057378</td>\n",
       "      <td>-1.334772</td>\n",
       "      <td>0.411130</td>\n",
       "    </tr>\n",
       "    <tr>\n",
       "      <th>2</th>\n",
       "      <td>-4.262532</td>\n",
       "      <td>-16.579945</td>\n",
       "      <td>-1.698645</td>\n",
       "      <td>5.673627</td>\n",
       "      <td>7.992780</td>\n",
       "      <td>-1.611991</td>\n",
       "      <td>-2.800052</td>\n",
       "      <td>-5.053914</td>\n",
       "      <td>-4.466478</td>\n",
       "      <td>2.910076</td>\n",
       "      <td>...</td>\n",
       "      <td>1.511517</td>\n",
       "      <td>0.311203</td>\n",
       "      <td>-0.004005</td>\n",
       "      <td>-0.381075</td>\n",
       "      <td>0.342275</td>\n",
       "      <td>-0.979101</td>\n",
       "      <td>0.061808</td>\n",
       "      <td>-0.784397</td>\n",
       "      <td>-0.175541</td>\n",
       "      <td>-0.172444</td>\n",
       "    </tr>\n",
       "    <tr>\n",
       "      <th>3</th>\n",
       "      <td>-3.207967</td>\n",
       "      <td>-13.165855</td>\n",
       "      <td>0.840043</td>\n",
       "      <td>6.510611</td>\n",
       "      <td>1.453690</td>\n",
       "      <td>-0.448241</td>\n",
       "      <td>-1.877673</td>\n",
       "      <td>-12.684435</td>\n",
       "      <td>1.851002</td>\n",
       "      <td>3.080014</td>\n",
       "      <td>...</td>\n",
       "      <td>2.221196</td>\n",
       "      <td>0.228551</td>\n",
       "      <td>0.183758</td>\n",
       "      <td>-0.973997</td>\n",
       "      <td>0.485620</td>\n",
       "      <td>-0.786763</td>\n",
       "      <td>-0.088097</td>\n",
       "      <td>-0.313523</td>\n",
       "      <td>-0.189928</td>\n",
       "      <td>0.994721</td>\n",
       "    </tr>\n",
       "    <tr>\n",
       "      <th>4</th>\n",
       "      <td>-2.778760</td>\n",
       "      <td>-17.624571</td>\n",
       "      <td>-1.051750</td>\n",
       "      <td>5.380846</td>\n",
       "      <td>7.339036</td>\n",
       "      <td>-2.227474</td>\n",
       "      <td>-2.846469</td>\n",
       "      <td>-4.625878</td>\n",
       "      <td>-1.273857</td>\n",
       "      <td>2.669237</td>\n",
       "      <td>...</td>\n",
       "      <td>1.214638</td>\n",
       "      <td>0.220407</td>\n",
       "      <td>-0.298760</td>\n",
       "      <td>-0.285746</td>\n",
       "      <td>0.455454</td>\n",
       "      <td>-1.068758</td>\n",
       "      <td>-0.108511</td>\n",
       "      <td>-1.278007</td>\n",
       "      <td>-0.825053</td>\n",
       "      <td>0.317443</td>\n",
       "    </tr>\n",
       "  </tbody>\n",
       "</table>\n",
       "<p>5 rows × 67 columns</p>\n",
       "</div>"
      ],
      "text/plain": [
       "         0          1         2         3         4         5         6   \\\n",
       "0 -3.517648 -17.958351 -1.696485  5.968899  5.054069 -2.171382 -2.567818   \n",
       "1 -3.037795 -17.505539 -1.047905  4.735097  7.376731 -1.998837 -3.357764   \n",
       "2 -4.262532 -16.579945 -1.698645  5.673627  7.992780 -1.611991 -2.800052   \n",
       "3 -3.207967 -13.165855  0.840043  6.510611  1.453690 -0.448241 -1.877673   \n",
       "4 -2.778760 -17.624571 -1.051750  5.380846  7.339036 -2.227474 -2.846469   \n",
       "\n",
       "          7         8         9   ...        57        58        59        60  \\\n",
       "0  -7.701213  5.408464  1.383220  ...  1.322952 -0.095746 -0.484836 -0.454154   \n",
       "1  -3.853990 -2.605121  2.329281  ...  0.875151  0.372637 -0.326005 -0.425533   \n",
       "2  -5.053914 -4.466478  2.910076  ...  1.511517  0.311203 -0.004005 -0.381075   \n",
       "3 -12.684435  1.851002  3.080014  ...  2.221196  0.228551  0.183758 -0.973997   \n",
       "4  -4.625878 -1.273857  2.669237  ...  1.214638  0.220407 -0.298760 -0.285746   \n",
       "\n",
       "         61        62        63        64        65        66  \n",
       "0  0.311839 -0.812664 -0.482205 -1.123931 -0.410884  0.336216  \n",
       "1  0.316736 -1.115336 -0.000957 -1.057378 -1.334772  0.411130  \n",
       "2  0.342275 -0.979101  0.061808 -0.784397 -0.175541 -0.172444  \n",
       "3  0.485620 -0.786763 -0.088097 -0.313523 -0.189928  0.994721  \n",
       "4  0.455454 -1.068758 -0.108511 -1.278007 -0.825053  0.317443  \n",
       "\n",
       "[5 rows x 67 columns]"
      ]
     },
     "execution_count": 8,
     "metadata": {},
     "output_type": "execute_result"
    }
   ],
   "source": [
    "val = val.iloc[:,:-1]\n",
    "\n",
    "for col in val.columns:\n",
    "    val[col] = val[col].astype(float)\n",
    "    \n",
    "val.head()"
   ]
  },
  {
   "cell_type": "markdown",
   "id": "a490acbb",
   "metadata": {},
   "source": [
    "Après quelques étapes, nous avons un jeu de données prêt à être analyser. Le but de l'analyse est de déterminer si le modèle et la réduction dimensionnelle par ACP a permis de créer des vecteurs qui peuvent être classés selon la catégorie des images. \n",
    "\n",
    "Pour vérifier cela, nous allons :\n",
    "- effectuer une réduction dimensionnelle des vecteurs en 2 dimensions par un t-SNE,\n",
    "- segmenter les données nouvellement réduites via un KMeans et\n",
    "- comparer les labels d'origines avec les labels données par le KMeans.\n",
    "\n",
    "<a class=\"anchor\" id=\"chapter2\"></a>\n",
    "# Chapitre 2 : Analyse des données\n",
    "Nous allons commencer par définir quelques fonctions qui seront utilisées pour réaliser les étapes précédemment décrites.\n",
    "La réduction dimensionnelle doit être optimisée et notamment la perpléxité. Pour cela, nous allons effectuer une segmentation pour chaque réduction dimensionnelle réalisée pour certaines valeurs de perplexité. Ensuite nous calculons le score ARI obtenu pour une perplexité donnée. La perplexité choisie sera celle où le score ARI sera le plus grand.\n",
    "\n",
    "<a class=\"anchor\" id=\"section_2_1\"></a>\n",
    "## Création de fonctions"
   ]
  },
  {
   "cell_type": "code",
   "execution_count": 9,
   "id": "bc696cdc",
   "metadata": {},
   "outputs": [],
   "source": [
    "def best_perplexity(ref, X, model, perp_min = 5, perp_max = 105, step = 5, n_clusters = 7, long = 3.5, larg = 2):\n",
    "    \n",
    "    ARI = []\n",
    "    ARI_tuned = []\n",
    "    liste_perp = np.arange(perp_min, perp_max, step).tolist()\n",
    "    \n",
    "    for i in range (perp_min, perp_max, step):\n",
    "        tsne = manifold.TSNE(n_components=2, perplexity = i, init='random', \n",
    "                             learning_rate = \"auto\", n_iter = 1000, random_state = 0)\n",
    "        \n",
    "        X_tsne = tsne.fit_transform(X)\n",
    "                \n",
    "        k_means = KMeans(n_clusters = n_clusters, init = \"k-means++\", random_state = 0, n_init=\"auto\").fit(X_tsne)\n",
    "                \n",
    "        ARI.append(np.round(metrics.adjusted_rand_score(ref, k_means.labels_),5))\n",
    "    \n",
    "    plt.figure(figsize=(long, larg))\n",
    "    \n",
    "    plt.plot(liste_perp, ARI, marker = \"o\", color = \"silver\")\n",
    "    \n",
    "    plt.xlabel(\"Perplexité\", fontsize = 10)\n",
    "    plt.ylabel(\"Score ARI\", fontsize = 10)\n",
    "        \n",
    "    plt.xticks(fontsize = 9)\n",
    "    plt.yticks(fontsize = 9)\n",
    "        \n",
    "    plt.title(f\"Distribution du score ARI selon \\nla perplexité ({model})\", fontsize = 12)    \n",
    "    \n",
    "    best_p = liste_perp[ARI.index(max(ARI))]\n",
    "    print(\"=================================================================================================\")\n",
    "    print(f\"Le score ARI est maximal pour une perplexité de {best_p}\")\n",
    "    print(\"=================================================================================================\")\n",
    "        \n",
    "    return best_p"
   ]
  },
  {
   "cell_type": "markdown",
   "id": "0ec802a6",
   "metadata": {},
   "source": [
    "Nous créeons une fonction permettant de représenter graphiquement les variables réduites (où la perplexité a été déterminée au préalable) et chaque observable sera colorée selon le label auquel il appartient. Nous présenterons deux graphiques comparatifs :\n",
    "- un graphique où les labels sont les labels originaux et\n",
    "- un graphique où les labels sont ceux déterminés après avoir fait une segmentation par KMeans."
   ]
  },
  {
   "cell_type": "code",
   "execution_count": 10,
   "id": "e9bc6240",
   "metadata": {},
   "outputs": [],
   "source": [
    "def score_ARI(model, perp, X, ref, n_clusters = 5):\n",
    "    \n",
    "    tsne = manifold.TSNE(n_components=2, perplexity = perp, init='random', \n",
    "                         learning_rate = \"auto\", n_iter = 1000, random_state=0)\n",
    "    \n",
    "    X_tsne = tsne.fit_transform(X)\n",
    "    \n",
    "    k_means = KMeans(n_clusters = n_clusters, init = \"k-means++\", random_state = 0, n_init=\"auto\").fit(X_tsne)\n",
    "    \n",
    "    ARI = np.round(metrics.adjusted_rand_score(ref, k_means.labels_),5)\n",
    "    \n",
    "    print(\"=================================================================================================\")\n",
    "    print(f\"Pour le modèle {model}, le score ARI est : {ARI}\")\n",
    "    print(\"=================================================================================================\")\n",
    "    \n",
    "    lab = k_means.predict(X_tsne)\n",
    "        \n",
    "    return ARI, X_tsne, lab\n",
    "\n",
    "\n",
    "def graph_t_sne(model, perp, X, ref, n_clusters = 5, long = 10, larg = 2):\n",
    "    \n",
    "    ARI, X_tsne, lab_model = score_ARI(model, perp, X, ref, n_clusters = 5)\n",
    "    \n",
    "    lab = [lab_model, ref]\n",
    "    k = 0\n",
    "        \n",
    "    plt.figure(figsize=(long, larg))\n",
    "        \n",
    "    plt.subplot(1,2,1)\n",
    "    \n",
    "    sns.scatterplot(x = X_tsne[:,0], \n",
    "                    y = X_tsne[:,1],\n",
    "                    hue = lab[0],\n",
    "                    legend = 'full',\n",
    "                    palette=\"deep\")\n",
    "    \n",
    "    plt.xlabel(\"Variable t-SNE 1\", fontsize = 10)\n",
    "    plt.ylabel(\"Variable t-SNE 2\", fontsize = 10)\n",
    "            \n",
    "    plt.xticks(fontsize = 9)\n",
    "    plt.yticks(fontsize = 9)\n",
    "    \n",
    "    plt.legend(frameon = False, bbox_to_anchor=(1.2,1), fontsize = 9)\n",
    "    \n",
    "    plt.title(f\"Segmentation avec {model} \\n(labels = prédictions)\", fontsize = 12)\n",
    "                \n",
    "    plt.subplot(1,2,2)\n",
    "    sns.scatterplot(x = X_tsne[:,0], \n",
    "                    y = X_tsne[:,1],\n",
    "                    hue = lab[1],\n",
    "                    legend = 'full',\n",
    "                    palette=\"deep\")\n",
    "            \n",
    "    plt.xlabel(\"Variable t-SNE 1\", fontsize = 10)\n",
    "    plt.ylabel(\"Variable t-SNE 2\", fontsize = 10)\n",
    "            \n",
    "    plt.xticks(fontsize = 9)\n",
    "    plt.yticks(fontsize = 9)\n",
    "            \n",
    "    plt.legend(frameon = False, bbox_to_anchor=(1.2,1), fontsize = 9)\n",
    "    \n",
    "    plt.title(f\"Segmentation avec {model} \\n(labels = catégories)\", fontsize = 12)\n",
    "    \n",
    "    plt.subplots_adjust(left=0.1,\n",
    "                        bottom=0.1, \n",
    "                        right=0.9, \n",
    "                        top=0.99, \n",
    "                        wspace=0.6, \n",
    "                        hspace=0)\n",
    "    \n",
    "    plt.show()\n",
    "    \n",
    "    return ARI, lab_model"
   ]
  },
  {
   "cell_type": "markdown",
   "id": "680c5598",
   "metadata": {},
   "source": [
    "Dans un premier temps, nous créeons une fonctions permettant de créer une matrice de confusion et de faire correspondre les labels obtenus avec le KMeans avec les labels originaux. \n",
    "Dans un second temps, nous créeons une fonction qui va afficher la matrice de confusion."
   ]
  },
  {
   "cell_type": "code",
   "execution_count": 11,
   "id": "71938abf",
   "metadata": {},
   "outputs": [],
   "source": [
    "def confusion_matrix(ref_series, model_series):\n",
    "    \n",
    "    confusion_matrix = pd.crosstab(ref_series, model_series, \n",
    "                                   rownames = ['Données'], colnames = ['Modelisé'], margins=True)\n",
    "    \n",
    "    row_idx, col_idx = linear_sum_assignment(-confusion_matrix.iloc[:-1,:-1])\n",
    "    row_idx = row_idx.tolist()\n",
    "    col_idx = col_idx.tolist()\n",
    "    row_idx.append(5)\n",
    "    col_idx.append(5)\n",
    "    \n",
    "    confusion_matrix_rearranged = confusion_matrix.iloc[row_idx, col_idx]\n",
    "    \n",
    "    return confusion_matrix_rearranged\n",
    "\n",
    "def graph_matrix(ref_series, model_series, model, long_fig = 10, haut_fig = 4):\n",
    "    \n",
    "   \n",
    "    mat = confusion_matrix(ref_series, model_series)\n",
    "        \n",
    "    categ_x = [\"Pomme\\nBraeburn\", \"Pomme\\nCrimson\\nsnow\", \"Pomme\\nGranny\\nsmith\", \n",
    "               \"Maïs\", \"Salak\"]\n",
    "    \n",
    "    categ_y = [\"Pomme\\nBraeburn\", \"Pomme\\nCrimson snow\", \"Pomme\\nGranny smith\", \n",
    "               \"Maïs\", \"Salak\"]\n",
    "    \n",
    "    plt.figure(figsize=(long_fig, haut_fig))\n",
    "        \n",
    "    liste_col_conf = mat.columns\n",
    "    for col in liste_col_conf[:-1]:\n",
    "        mat[col] = mat[col]*100/mat[\"All\"]\n",
    "        \n",
    "\n",
    "    cmap = plt.colormaps[\"Blues\"]\n",
    "    boundaries = np.arange(0,110,10)\n",
    "    norm = colors.BoundaryNorm(boundaries, cmap.N, clip=True)\n",
    "        \n",
    "    plt.matshow(mat.iloc[:-1,:-1],cmap = cmap, fignum = False , norm = norm)\n",
    "        \n",
    "    for (x, y), value in np.ndenumerate(mat.iloc[:-1,:-1].T):\n",
    "        plt.text(x, y, f\"{value:.1f}\", va=\"center\", ha=\"center\", fontsize = 9.5, \n",
    "                 bbox=dict(boxstyle='round', facecolor='white', edgecolor='1'))\n",
    "                    \n",
    "           \n",
    "    plt.xticks(range(len(categ_x)), categ_x, fontsize=10, rotation=45)\n",
    "    plt.tick_params(axis=\"x\", bottom=True, top=False, labelbottom=True, labeltop=False)\n",
    "    plt.yticks(range(len(categ_y)), categ_y, fontsize=10)\n",
    "        \n",
    "    plt.xlabel(\"Données\", fontsize=14, labelpad=10)\n",
    "    plt.ylabel(\"Modélisation\",fontsize=14, labelpad=10)\n",
    "        \n",
    "    plt.colorbar(fraction=0.046, pad=0.02).ax.tick_params(labelsize=10)\n",
    "       \n",
    "    plt.title(f\"Matrice de confusion\\n({model})\", fontsize=14)\n",
    "        \n",
    "    plt.show()"
   ]
  },
  {
   "cell_type": "markdown",
   "id": "a18094c9",
   "metadata": {},
   "source": [
    "<a class=\"anchor\" id=\"section_2_2\"></a>\n",
    "## Optimisation de la perplexité"
   ]
  },
  {
   "cell_type": "markdown",
   "id": "a17e5cd0",
   "metadata": {},
   "source": [
    "Nous allons utiliser la fonction créee pour l'optimisation de la perplexité. Nous commencons d'abord par créér les labels sous forme numérique où chaque catégorie de fruits est associé à un entier."
   ]
  },
  {
   "cell_type": "code",
   "execution_count": 12,
   "id": "f4d049d2",
   "metadata": {},
   "outputs": [
    {
     "data": {
      "text/plain": [
       "(373, 67)"
      ]
     },
     "execution_count": 12,
     "metadata": {},
     "output_type": "execute_result"
    }
   ],
   "source": [
    "X_features_mobile = val.values\n",
    "X_features_mobile.shape"
   ]
  },
  {
   "cell_type": "code",
   "execution_count": 13,
   "id": "c8cf955f",
   "metadata": {},
   "outputs": [
    {
     "name": "stdout",
     "output_type": "stream",
     "text": [
      "['Apple Braeburn' 'Apple Crimson Snow' 'Apple Granny Smith' 'Corn' 'Salak']\n"
     ]
    }
   ],
   "source": [
    "fruits = resultat[\"label\"].unique()\n",
    "print(fruits)\n",
    "k=0\n",
    "for fr in fruits:\n",
    "    resultat.loc[resultat[\"label\"]==fr,\"categ_label\"] = k\n",
    "    k+=1\n",
    "\n",
    "resultat[\"categ_label\"] = resultat[\"categ_label\"].astype(int)"
   ]
  },
  {
   "cell_type": "code",
   "execution_count": 14,
   "id": "c01bcad2",
   "metadata": {},
   "outputs": [
    {
     "name": "stdout",
     "output_type": "stream",
     "text": [
      "Le label associé à la catégorie Apple Braeburn est 0\n",
      "Le label associé à la catégorie Apple Crimson Snow est 1\n",
      "Le label associé à la catégorie Apple Granny Smith est 2\n",
      "Le label associé à la catégorie Corn est 3\n",
      "Le label associé à la catégorie Salak est 4\n"
     ]
    }
   ],
   "source": [
    "lab_app_b = resultat.loc[resultat[\"label\"]==\"Apple Braeburn\",\"categ_label\"].unique().item()\n",
    "lab_app_cs = resultat.loc[resultat[\"label\"]==\"Apple Crimson Snow\",\"categ_label\"].unique().item()\n",
    "lab_app_g = resultat.loc[resultat[\"label\"]==\"Apple Granny Smith\",\"categ_label\"].unique().item()\n",
    "lab_mais = resultat.loc[resultat[\"label\"]==\"Corn\",\"categ_label\"].unique().item()\n",
    "lab_salak = resultat.loc[resultat[\"label\"]==\"Salak\",\"categ_label\"].unique().item()\n",
    "\n",
    "label_f = [lab_app_b, lab_app_cs, lab_app_g, lab_mais, lab_salak]\n",
    "\n",
    "for i in range (5):\n",
    "    print(f\"Le label associé à la catégorie {fruits[i]} est {label_f[i]}\")"
   ]
  },
  {
   "cell_type": "code",
   "execution_count": 15,
   "id": "1305d05b",
   "metadata": {},
   "outputs": [],
   "source": [
    "lab_category = resultat[\"categ_label\"].values\n",
    "n_clusters = len(fruits)"
   ]
  },
  {
   "cell_type": "code",
   "execution_count": 16,
   "id": "038b720a",
   "metadata": {},
   "outputs": [
    {
     "name": "stdout",
     "output_type": "stream",
     "text": [
      "=================================================================================================\n",
      "Le score ARI est maximal pour une perplexité de 25\n",
      "=================================================================================================\n"
     ]
    },
    {
     "data": {
      "image/png": "[encoded data removed]",
      "text/plain": [
       "<Figure size 350x200 with 1 Axes>"
      ]
     },
     "metadata": {},
     "output_type": "display_data"
    }
   ],
   "source": [
    "best_perp_mobile = best_perplexity(lab_category, X_features_mobile, \"MobileNetV2\", \n",
    "                                   perp_min = 5, perp_max = 101, step = 5, n_clusters = 5)"
   ]
  },
  {
   "cell_type": "markdown",
   "id": "7a08f09a",
   "metadata": {},
   "source": [
    "Nous voyons que le score ARI est maximum pour une perplexité de 25. Nous allons déterminer le score ARI entre 20 et 30 afin de savoir pour quelle valeur de perplexité précise nous avons un score ARI de 1."
   ]
  },
  {
   "cell_type": "code",
   "execution_count": 17,
   "id": "6460a7a7",
   "metadata": {},
   "outputs": [
    {
     "name": "stdout",
     "output_type": "stream",
     "text": [
      "=================================================================================================\n",
      "Le score ARI est maximal pour une perplexité de 22\n",
      "=================================================================================================\n"
     ]
    },
    {
     "data": {
      "image/png": "[encoded data removed]",
      "text/plain": [
       "<Figure size 350x200 with 1 Axes>"
      ]
     },
     "metadata": {},
     "output_type": "display_data"
    }
   ],
   "source": [
    "best_perp_mobile = best_perplexity(lab_category, X_features_mobile, \"MobileNetV2\", \n",
    "                                   perp_min = 20, perp_max = 31, step = 1, n_clusters = 5)"
   ]
  },
  {
   "cell_type": "markdown",
   "id": "4167f7df",
   "metadata": {},
   "source": [
    "<a class=\"anchor\" id=\"section_2_3\"></a>\n",
    "## Représentation graphique\n",
    "\n",
    "Nous allons représenter graphiquement les variables réduites où la perplexité a été optimisée."
   ]
  },
  {
   "cell_type": "code",
   "execution_count": 18,
   "id": "41d734e0",
   "metadata": {},
   "outputs": [
    {
     "name": "stdout",
     "output_type": "stream",
     "text": [
      "=================================================================================================\n",
      "Pour le modèle MobileNetV2, le score ARI est : 1.0\n",
      "=================================================================================================\n"
     ]
    },
    {
     "data": {
      "image/png": "[encoded data removed]",
      "text/plain": [
       "<Figure size 1000x200 with 2 Axes>"
      ]
     },
     "metadata": {},
     "output_type": "display_data"
    }
   ],
   "source": [
    "ARI_mobile, label_mobile = graph_t_sne(\"MobileNetV2\", best_perp_mobile, X_features_mobile, lab_category, n_clusters = 5)"
   ]
  },
  {
   "cell_type": "markdown",
   "id": "edd28c86",
   "metadata": {},
   "source": [
    "<a class=\"anchor\" id=\"section_2_4\"></a>\n",
    "## Matrice de confusion\n",
    "\n",
    "Enfin, nous représentons la matrice de confusion pour déterminer les pourcentages de correspondances entre les catégories réelles et prédites."
   ]
  },
  {
   "cell_type": "code",
   "execution_count": 19,
   "id": "28f717bb",
   "metadata": {},
   "outputs": [
    {
     "data": {
      "image/png": "[encoded data removed]",
      "text/plain": [
       "<Figure size 1000x400 with 2 Axes>"
      ]
     },
     "metadata": {},
     "output_type": "display_data"
    }
   ],
   "source": [
    "resultat[\"label_predict\"] = label_mobile\n",
    "graph_matrix(resultat[\"categ_label\"], resultat[\"label_predict\"], \"MobileNetV2\")"
   ]
  }
 ],
 "metadata": {
  "kernelspec": {
   "display_name": "Python 3 (ipykernel)",
   "language": "python",
   "name": "python3"
  },
  "language_info": {
   "codemirror_mode": {
    "name": "ipython",
    "version": 3
   },
   "file_extension": ".py",
   "mimetype": "text/x-python",
   "name": "python",
   "nbconvert_exporter": "python",
   "pygments_lexer": "ipython3",
   "version": "3.9.16"
  }
 },
 "nbformat": 4,
 "nbformat_minor": 5
}
