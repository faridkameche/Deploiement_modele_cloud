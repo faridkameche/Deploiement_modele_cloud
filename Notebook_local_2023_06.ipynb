{
 "cells": [
  {
   "cell_type": "markdown",
   "id": "1828d7b8",
   "metadata": {},
   "source": [
    "<h3 align=\"center\"><font size=\"6.5\">Projet 8 : Déployez un modèle dans le cloud</font></h3>\n",
    "\n",
    "<h3 align=\"center\"><font size=\"5\">Création des vecteurs (local)</font></h3>\n",
    "\n",
    "* [Chapitre 1 : Préparation des données](#chapter1)\n",
    "    * [Librairies et données](#section_1_1)\n",
    "    * [Session Spark](#section_1_2)\n",
    "    * [Dataframe](#section_1_3)\n",
    "       \n",
    "* [Chapitre 2 : Modélisation](#chapter2)\n",
    "    * [Création de fonction](#section_2_1)\n",
    "    * [Réduction dimensionnelle](#section_2_2)\n",
    "    * [Sauvegarde des données](#section_2_3)"
   ]
  },
  {
   "cell_type": "markdown",
   "id": "5ae97bd3",
   "metadata": {},
   "source": [
    "<a class=\"anchor\" id=\"chapter1\"></a>\n",
    "# Chapitre 1 : Préparation des données\n",
    "Nous allons travailler sur la reconnaissance d'images de fruits et légumes (localement). Nous avons sélectionné un jeu de données réduits qui est composé de 5 fruits et légumes.\n",
    "\n",
    "<a class=\"anchor\" id=\"section_1_1\"></a>\n",
    "## Librairies et données"
   ]
  },
  {
   "cell_type": "code",
   "execution_count": 1,
   "id": "1ab15972",
   "metadata": {},
   "outputs": [
    {
     "name": "stderr",
     "output_type": "stream",
     "text": [
      "2023-06-18 11:45:19.967501: I tensorflow/core/platform/cpu_feature_guard.cc:193] This TensorFlow binary is optimized with oneAPI Deep Neural Network Library (oneDNN) to use the following CPU instructions in performance-critical operations:  SSE4.1 SSE4.2\n",
      "To enable them in other operations, rebuild TensorFlow with the appropriate compiler flags.\n"
     ]
    }
   ],
   "source": [
    "import pandas as pd\n",
    "from PIL import Image\n",
    "import numpy as np\n",
    "import io\n",
    "import os\n",
    "\n",
    "import tensorflow as tf\n",
    "from tensorflow.keras.applications.mobilenet_v2 import MobileNetV2, preprocess_input\n",
    "from tensorflow.keras.preprocessing.image import img_to_array\n",
    "from tensorflow.keras import Model\n",
    "from pyspark.sql.functions import col, pandas_udf, PandasUDFType, element_at, split, udf\n",
    "from pyspark.sql import SparkSession"
   ]
  },
  {
   "cell_type": "markdown",
   "id": "26deb505",
   "metadata": {},
   "source": [
    "Dans le cadre du traitement des données, nous allons utiliser deux répertoires :\n",
    "- un répertoire pour les données d'entrée qui contient 373 images et \n",
    "- un répertoire pour récupérer les données traitées en sortie."
   ]
  },
  {
   "cell_type": "code",
   "execution_count": 2,
   "id": "2377d530",
   "metadata": {},
   "outputs": [
    {
     "name": "stdout",
     "output_type": "stream",
     "text": [
      "PATH:        /home/faridkameche/Projet_8/jup_notebook/P8\n",
      "PATH_Data:   /home/faridkameche/Projet_8/jup_notebook/P8/test_local\n",
      "PATH_Result: /home/faridkameche/Projet_8/jup_notebook/P8/Results\n"
     ]
    }
   ],
   "source": [
    "PATH = os.getcwd()\n",
    "\n",
    "PATH_Data = PATH+'/test_local'\n",
    "PATH_Result = PATH+'/Results'\n",
    "print('PATH:        '+\\\n",
    "      PATH+'\\nPATH_Data:   '+\\\n",
    "      PATH_Data+'\\nPATH_Result: '+PATH_Result)"
   ]
  },
  {
   "cell_type": "markdown",
   "id": "708c2b96",
   "metadata": {},
   "source": [
    "<a class=\"anchor\" id=\"section_1_2\"></a>\n",
    "## Session Spark\n",
    "\n",
    "L’application Spark est contrôlée grâce à un processus de pilotage (driver process) appelé **SparkSession**.\n",
    "<u>Une instance de **SparkSession** est la façon dont Spark exécute les fonctions définies par l’utilisateur\n",
    "dans l’ensemble du cluster</u>. <u>Une SparkSession correspond toujours à une application Spark</u>.\n",
    "\n",
    "<u>Ici nous créons une session spark en spécifiant dans l'ordre</u> :\n",
    "- un **nom pour l'application**, qui sera affiché dans l'interface utilisateur Web Spark (**P8**),\n",
    "- une execution en **local** de l'application (nous ne définissons pas le nombre de cœurs à utiliser mais nous pourrions le faire avec .master('local[X]) pour X cœurs à utiliser),\n",
    "- une option de configuration supplémentaire permettant d'utiliser le **format \"parquet\"** que nous utiliserons pour enregistrer et charger le résultat de notre travail et\n",
    "- vouloir **obtenir une session spark** existante ou si aucune n'existe, en créer une nouvelle."
   ]
  },
  {
   "cell_type": "code",
   "execution_count": 3,
   "id": "924106d0",
   "metadata": {},
   "outputs": [
    {
     "name": "stderr",
     "output_type": "stream",
     "text": [
      "23/06/18 11:45:23 WARN Utils: Your hostname, Ubuntu resolves to a loopback address: 127.0.1.1; using 10.0.2.15 instead (on interface enp0s3)\n",
      "23/06/18 11:45:23 WARN Utils: Set SPARK_LOCAL_IP if you need to bind to another address\n",
      "Setting default log level to \"WARN\".\n",
      "To adjust logging level use sc.setLogLevel(newLevel). For SparkR, use setLogLevel(newLevel).\n",
      "23/06/18 11:45:23 WARN NativeCodeLoader: Unable to load native-hadoop library for your platform... using builtin-java classes where applicable\n"
     ]
    }
   ],
   "source": [
    "spark = (SparkSession\n",
    "             .builder\n",
    "             .appName('P8')\n",
    "             .master('local')\n",
    "             .config(\"spark.sql.parquet.writeLegacyFormat\", 'true')\n",
    "             .getOrCreate()\n",
    ")"
   ]
  },
  {
   "cell_type": "markdown",
   "id": "f3e30d3d",
   "metadata": {},
   "source": [
    "Nous crééons un objet de type sparkContext permettant la gestion globale de l'application (niveau de logging, niveau de parallélisation...) et nous affichons ensuite les informations de cet objet."
   ]
  },
  {
   "cell_type": "code",
   "execution_count": 4,
   "id": "6735def5",
   "metadata": {},
   "outputs": [
    {
     "data": {
      "text/html": [
       "\n",
       "            <div>\n",
       "                <p><b>SparkSession - in-memory</b></p>\n",
       "                \n",
       "        <div>\n",
       "            <p><b>SparkContext</b></p>\n",
       "\n",
       "            <p><a href=\"http://10.0.2.15:4040\">Spark UI</a></p>\n",
       "\n",
       "            <dl>\n",
       "              <dt>Version</dt>\n",
       "                <dd><code>v3.4.0</code></dd>\n",
       "              <dt>Master</dt>\n",
       "                <dd><code>local</code></dd>\n",
       "              <dt>AppName</dt>\n",
       "                <dd><code>P8</code></dd>\n",
       "            </dl>\n",
       "        </div>\n",
       "        \n",
       "            </div>\n",
       "        "
      ],
      "text/plain": [
       "<pyspark.sql.session.SparkSession at 0x7f0d3f0c6200>"
      ]
     },
     "execution_count": 4,
     "metadata": {},
     "output_type": "execute_result"
    }
   ],
   "source": [
    "sc = spark.sparkContext\n",
    "\n",
    "spark"
   ]
  },
  {
   "cell_type": "markdown",
   "id": "a51c72cc",
   "metadata": {},
   "source": [
    "<a class=\"anchor\" id=\"section_1_3\"></a>\n",
    "## Dataframe\n",
    "Nous allons charger les données dans un dataframe pandas UDF dans un format binaire pour offrir plus de souplesse dans le prétraitement des images. Nous ajoutons comme option qu'il faut charger l'ensemble eds images au format jpg et que nous chargeons toutes les données des sous dossiers du dossier ciblé."
   ]
  },
  {
   "cell_type": "code",
   "execution_count": 5,
   "id": "bc696cdc",
   "metadata": {},
   "outputs": [],
   "source": [
    "images = spark.read.format(\"binaryFile\") \\\n",
    "  .option(\"pathGlobFilter\", \"*.jpg\") \\\n",
    "  .option(\"recursiveFileLookup\", \"true\") \\\n",
    "  .load(PATH_Data)"
   ]
  },
  {
   "cell_type": "code",
   "execution_count": 6,
   "id": "dff0f4e9",
   "metadata": {},
   "outputs": [
    {
     "data": {
      "text/plain": [
       "DataFrame[path: string, modificationTime: timestamp, length: bigint, content: binary]"
      ]
     },
     "execution_count": 6,
     "metadata": {},
     "output_type": "execute_result"
    }
   ],
   "source": [
    "images"
   ]
  },
  {
   "cell_type": "code",
   "execution_count": 7,
   "id": "8ed7c32a",
   "metadata": {},
   "outputs": [
    {
     "name": "stdout",
     "output_type": "stream",
     "text": [
      "root\n",
      " |-- path: string (nullable = true)\n",
      " |-- modificationTime: timestamp (nullable = true)\n",
      " |-- length: long (nullable = true)\n",
      " |-- content: binary (nullable = true)\n",
      "\n",
      "None\n"
     ]
    },
    {
     "name": "stderr",
     "output_type": "stream",
     "text": [
      "\r",
      "[Stage 0:>                                                          (0 + 1) / 1]\r"
     ]
    },
    {
     "name": "stdout",
     "output_type": "stream",
     "text": [
      "+-------------------------------------------------------------------------------------------+\n",
      "|path                                                                                       |\n",
      "+-------------------------------------------------------------------------------------------+\n",
      "|file:/home/faridkameche/Projet_8/jup_notebook/P8/test_local/Apple Crimson Snow/r_25_100.jpg|\n",
      "|file:/home/faridkameche/Projet_8/jup_notebook/P8/test_local/Apple Crimson Snow/r_24_100.jpg|\n",
      "|file:/home/faridkameche/Projet_8/jup_notebook/P8/test_local/Apple Crimson Snow/r_30_100.jpg|\n",
      "|file:/home/faridkameche/Projet_8/jup_notebook/P8/test_local/Apple Crimson Snow/r_32_100.jpg|\n",
      "|file:/home/faridkameche/Projet_8/jup_notebook/P8/test_local/Apple Crimson Snow/r_26_100.jpg|\n",
      "+-------------------------------------------------------------------------------------------+\n",
      "only showing top 5 rows\n",
      "\n",
      "None\n"
     ]
    },
    {
     "name": "stderr",
     "output_type": "stream",
     "text": [
      "\r",
      "                                                                                \r"
     ]
    }
   ],
   "source": [
    "print(images.printSchema())\n",
    "print(images.select('path').show(5,False))"
   ]
  },
  {
   "cell_type": "markdown",
   "id": "f5da5674",
   "metadata": {},
   "source": [
    "Nous voyons bien que les chemins vers les différentes images ont bien été chargés. Nous allons créer une colonne pour associer chaque fichier au label auquel il est associé."
   ]
  },
  {
   "cell_type": "code",
   "execution_count": 8,
   "id": "f4d049d2",
   "metadata": {},
   "outputs": [
    {
     "name": "stdout",
     "output_type": "stream",
     "text": [
      "root\n",
      " |-- path: string (nullable = true)\n",
      " |-- modificationTime: timestamp (nullable = true)\n",
      " |-- length: long (nullable = true)\n",
      " |-- content: binary (nullable = true)\n",
      " |-- label: string (nullable = true)\n",
      "\n",
      "None\n",
      "+-------------------------------------------------------------------------------------------+------------------+\n",
      "|path                                                                                       |label             |\n",
      "+-------------------------------------------------------------------------------------------+------------------+\n",
      "|file:/home/faridkameche/Projet_8/jup_notebook/P8/test_local/Apple Crimson Snow/r_25_100.jpg|Apple Crimson Snow|\n",
      "|file:/home/faridkameche/Projet_8/jup_notebook/P8/test_local/Apple Crimson Snow/r_24_100.jpg|Apple Crimson Snow|\n",
      "|file:/home/faridkameche/Projet_8/jup_notebook/P8/test_local/Apple Crimson Snow/r_30_100.jpg|Apple Crimson Snow|\n",
      "|file:/home/faridkameche/Projet_8/jup_notebook/P8/test_local/Apple Crimson Snow/r_32_100.jpg|Apple Crimson Snow|\n",
      "|file:/home/faridkameche/Projet_8/jup_notebook/P8/test_local/Apple Crimson Snow/r_26_100.jpg|Apple Crimson Snow|\n",
      "+-------------------------------------------------------------------------------------------+------------------+\n",
      "only showing top 5 rows\n",
      "\n",
      "None\n"
     ]
    }
   ],
   "source": [
    "images = images.withColumn('label', element_at(split(images['path'], '/'),-2))\n",
    "print(images.printSchema())\n",
    "print(images.select('path','label').show(5,False))"
   ]
  },
  {
   "cell_type": "markdown",
   "id": "c8d29c10",
   "metadata": {},
   "source": [
    "<a class=\"anchor\" id=\"chapter2\"></a>\n",
    "# Chapitre 2 : Modélisation\n",
    "<a class=\"anchor\" id=\"section_2_1\"></a>\n",
    "## Création de fonctions\n",
    "\n",
    "Nous allons utiliser le modèle MobileNetV2 qui est un modèle conçu pour classifier des images selon 1000 classes. Ce modèle présente l'avantage d'être plus rapide à éxecuter que le modèle VGG16. Comme nous ne voulons pas de la classification (dernière couche), nous créeons un modèle qui va exclure la dernière couche (Transfer learning).\n",
    "\n",
    "En revanche, nous spécifions que les données d'entrées doivent avoir une dimension de 224x224x3, ce qui est la dimension par défaut pour le modèle MobileNetV2. Nous serons donc amené à redimensionner les images que nous allons utiliser."
   ]
  },
  {
   "cell_type": "code",
   "execution_count": 9,
   "id": "ce6c8812",
   "metadata": {},
   "outputs": [
    {
     "name": "stderr",
     "output_type": "stream",
     "text": [
      "2023-06-18 11:45:33.413118: I tensorflow/core/platform/cpu_feature_guard.cc:193] This TensorFlow binary is optimized with oneAPI Deep Neural Network Library (oneDNN) to use the following CPU instructions in performance-critical operations:  SSE4.1 SSE4.2\n",
      "To enable them in other operations, rebuild TensorFlow with the appropriate compiler flags.\n",
      "2023-06-18 11:45:33.433724: I tensorflow/core/common_runtime/process_util.cc:146] Creating new thread pool with default inter op setting: 2. Tune using inter_op_parallelism_threads for best performance.\n"
     ]
    },
    {
     "name": "stdout",
     "output_type": "stream",
     "text": [
      "Model: \"model\"\n",
      "__________________________________________________________________________________________________\n",
      " Layer (type)                   Output Shape         Param #     Connected to                     \n",
      "==================================================================================================\n",
      " input_1 (InputLayer)           [(None, 224, 224, 3  0           []                               \n",
      "                                )]                                                                \n",
      "                                                                                                  \n",
      " Conv1 (Conv2D)                 (None, 112, 112, 32  864         ['input_1[0][0]']                \n",
      "                                )                                                                 \n",
      "                                                                                                  \n",
      " bn_Conv1 (BatchNormalization)  (None, 112, 112, 32  128         ['Conv1[0][0]']                  \n",
      "                                )                                                                 \n",
      "                                                                                                  \n",
      " Conv1_relu (ReLU)              (None, 112, 112, 32  0           ['bn_Conv1[0][0]']               \n",
      "                                )                                                                 \n",
      "                                                                                                  \n",
      " expanded_conv_depthwise (Depth  (None, 112, 112, 32  288        ['Conv1_relu[0][0]']             \n",
      " wiseConv2D)                    )                                                                 \n",
      "                                                                                                  \n",
      " expanded_conv_depthwise_BN (Ba  (None, 112, 112, 32  128        ['expanded_conv_depthwise[0][0]']\n",
      " tchNormalization)              )                                                                 \n",
      "                                                                                                  \n",
      " expanded_conv_depthwise_relu (  (None, 112, 112, 32  0          ['expanded_conv_depthwise_BN[0][0\n",
      " ReLU)                          )                                ]']                              \n",
      "                                                                                                  \n",
      " expanded_conv_project (Conv2D)  (None, 112, 112, 16  512        ['expanded_conv_depthwise_relu[0]\n",
      "                                )                                [0]']                            \n",
      "                                                                                                  \n",
      " expanded_conv_project_BN (Batc  (None, 112, 112, 16  64         ['expanded_conv_project[0][0]']  \n",
      " hNormalization)                )                                                                 \n",
      "                                                                                                  \n",
      " block_1_expand (Conv2D)        (None, 112, 112, 96  1536        ['expanded_conv_project_BN[0][0]'\n",
      "                                )                                ]                                \n",
      "                                                                                                  \n",
      " block_1_expand_BN (BatchNormal  (None, 112, 112, 96  384        ['block_1_expand[0][0]']         \n",
      " ization)                       )                                                                 \n",
      "                                                                                                  \n",
      " block_1_expand_relu (ReLU)     (None, 112, 112, 96  0           ['block_1_expand_BN[0][0]']      \n",
      "                                )                                                                 \n",
      "                                                                                                  \n",
      " block_1_pad (ZeroPadding2D)    (None, 113, 113, 96  0           ['block_1_expand_relu[0][0]']    \n",
      "                                )                                                                 \n",
      "                                                                                                  \n",
      " block_1_depthwise (DepthwiseCo  (None, 56, 56, 96)  864         ['block_1_pad[0][0]']            \n",
      " nv2D)                                                                                            \n",
      "                                                                                                  \n",
      " block_1_depthwise_BN (BatchNor  (None, 56, 56, 96)  384         ['block_1_depthwise[0][0]']      \n",
      " malization)                                                                                      \n",
      "                                                                                                  \n",
      " block_1_depthwise_relu (ReLU)  (None, 56, 56, 96)   0           ['block_1_depthwise_BN[0][0]']   \n",
      "                                                                                                  \n",
      " block_1_project (Conv2D)       (None, 56, 56, 24)   2304        ['block_1_depthwise_relu[0][0]'] \n",
      "                                                                                                  \n",
      " block_1_project_BN (BatchNorma  (None, 56, 56, 24)  96          ['block_1_project[0][0]']        \n",
      " lization)                                                                                        \n",
      "                                                                                                  \n",
      " block_2_expand (Conv2D)        (None, 56, 56, 144)  3456        ['block_1_project_BN[0][0]']     \n",
      "                                                                                                  \n",
      " block_2_expand_BN (BatchNormal  (None, 56, 56, 144)  576        ['block_2_expand[0][0]']         \n",
      " ization)                                                                                         \n",
      "                                                                                                  \n",
      " block_2_expand_relu (ReLU)     (None, 56, 56, 144)  0           ['block_2_expand_BN[0][0]']      \n",
      "                                                                                                  \n",
      " block_2_depthwise (DepthwiseCo  (None, 56, 56, 144)  1296       ['block_2_expand_relu[0][0]']    \n",
      " nv2D)                                                                                            \n",
      "                                                                                                  \n",
      " block_2_depthwise_BN (BatchNor  (None, 56, 56, 144)  576        ['block_2_depthwise[0][0]']      \n",
      " malization)                                                                                      \n",
      "                                                                                                  \n",
      " block_2_depthwise_relu (ReLU)  (None, 56, 56, 144)  0           ['block_2_depthwise_BN[0][0]']   \n",
      "                                                                                                  \n",
      " block_2_project (Conv2D)       (None, 56, 56, 24)   3456        ['block_2_depthwise_relu[0][0]'] \n",
      "                                                                                                  \n",
      " block_2_project_BN (BatchNorma  (None, 56, 56, 24)  96          ['block_2_project[0][0]']        \n",
      " lization)                                                                                        \n",
      "                                                                                                  \n",
      " block_2_add (Add)              (None, 56, 56, 24)   0           ['block_1_project_BN[0][0]',     \n",
      "                                                                  'block_2_project_BN[0][0]']     \n",
      "                                                                                                  \n",
      " block_3_expand (Conv2D)        (None, 56, 56, 144)  3456        ['block_2_add[0][0]']            \n",
      "                                                                                                  \n",
      " block_3_expand_BN (BatchNormal  (None, 56, 56, 144)  576        ['block_3_expand[0][0]']         \n",
      " ization)                                                                                         \n",
      "                                                                                                  \n"
     ]
    },
    {
     "name": "stdout",
     "output_type": "stream",
     "text": [
      " block_3_expand_relu (ReLU)     (None, 56, 56, 144)  0           ['block_3_expand_BN[0][0]']      \n",
      "                                                                                                  \n",
      " block_3_pad (ZeroPadding2D)    (None, 57, 57, 144)  0           ['block_3_expand_relu[0][0]']    \n",
      "                                                                                                  \n",
      " block_3_depthwise (DepthwiseCo  (None, 28, 28, 144)  1296       ['block_3_pad[0][0]']            \n",
      " nv2D)                                                                                            \n",
      "                                                                                                  \n",
      " block_3_depthwise_BN (BatchNor  (None, 28, 28, 144)  576        ['block_3_depthwise[0][0]']      \n",
      " malization)                                                                                      \n",
      "                                                                                                  \n",
      " block_3_depthwise_relu (ReLU)  (None, 28, 28, 144)  0           ['block_3_depthwise_BN[0][0]']   \n",
      "                                                                                                  \n",
      " block_3_project (Conv2D)       (None, 28, 28, 32)   4608        ['block_3_depthwise_relu[0][0]'] \n",
      "                                                                                                  \n",
      " block_3_project_BN (BatchNorma  (None, 28, 28, 32)  128         ['block_3_project[0][0]']        \n",
      " lization)                                                                                        \n",
      "                                                                                                  \n",
      " block_4_expand (Conv2D)        (None, 28, 28, 192)  6144        ['block_3_project_BN[0][0]']     \n",
      "                                                                                                  \n",
      " block_4_expand_BN (BatchNormal  (None, 28, 28, 192)  768        ['block_4_expand[0][0]']         \n",
      " ization)                                                                                         \n",
      "                                                                                                  \n",
      " block_4_expand_relu (ReLU)     (None, 28, 28, 192)  0           ['block_4_expand_BN[0][0]']      \n",
      "                                                                                                  \n",
      " block_4_depthwise (DepthwiseCo  (None, 28, 28, 192)  1728       ['block_4_expand_relu[0][0]']    \n",
      " nv2D)                                                                                            \n",
      "                                                                                                  \n",
      " block_4_depthwise_BN (BatchNor  (None, 28, 28, 192)  768        ['block_4_depthwise[0][0]']      \n",
      " malization)                                                                                      \n",
      "                                                                                                  \n",
      " block_4_depthwise_relu (ReLU)  (None, 28, 28, 192)  0           ['block_4_depthwise_BN[0][0]']   \n",
      "                                                                                                  \n",
      " block_4_project (Conv2D)       (None, 28, 28, 32)   6144        ['block_4_depthwise_relu[0][0]'] \n",
      "                                                                                                  \n",
      " block_4_project_BN (BatchNorma  (None, 28, 28, 32)  128         ['block_4_project[0][0]']        \n",
      " lization)                                                                                        \n",
      "                                                                                                  \n",
      " block_4_add (Add)              (None, 28, 28, 32)   0           ['block_3_project_BN[0][0]',     \n",
      "                                                                  'block_4_project_BN[0][0]']     \n",
      "                                                                                                  \n",
      " block_5_expand (Conv2D)        (None, 28, 28, 192)  6144        ['block_4_add[0][0]']            \n",
      "                                                                                                  \n",
      " block_5_expand_BN (BatchNormal  (None, 28, 28, 192)  768        ['block_5_expand[0][0]']         \n",
      " ization)                                                                                         \n",
      "                                                                                                  \n",
      " block_5_expand_relu (ReLU)     (None, 28, 28, 192)  0           ['block_5_expand_BN[0][0]']      \n",
      "                                                                                                  \n",
      " block_5_depthwise (DepthwiseCo  (None, 28, 28, 192)  1728       ['block_5_expand_relu[0][0]']    \n",
      " nv2D)                                                                                            \n",
      "                                                                                                  \n",
      " block_5_depthwise_BN (BatchNor  (None, 28, 28, 192)  768        ['block_5_depthwise[0][0]']      \n",
      " malization)                                                                                      \n",
      "                                                                                                  \n",
      " block_5_depthwise_relu (ReLU)  (None, 28, 28, 192)  0           ['block_5_depthwise_BN[0][0]']   \n",
      "                                                                                                  \n",
      " block_5_project (Conv2D)       (None, 28, 28, 32)   6144        ['block_5_depthwise_relu[0][0]'] \n",
      "                                                                                                  \n",
      " block_5_project_BN (BatchNorma  (None, 28, 28, 32)  128         ['block_5_project[0][0]']        \n",
      " lization)                                                                                        \n",
      "                                                                                                  \n",
      " block_5_add (Add)              (None, 28, 28, 32)   0           ['block_4_add[0][0]',            \n",
      "                                                                  'block_5_project_BN[0][0]']     \n",
      "                                                                                                  \n",
      " block_6_expand (Conv2D)        (None, 28, 28, 192)  6144        ['block_5_add[0][0]']            \n",
      "                                                                                                  \n",
      " block_6_expand_BN (BatchNormal  (None, 28, 28, 192)  768        ['block_6_expand[0][0]']         \n",
      " ization)                                                                                         \n",
      "                                                                                                  \n",
      " block_6_expand_relu (ReLU)     (None, 28, 28, 192)  0           ['block_6_expand_BN[0][0]']      \n",
      "                                                                                                  \n",
      " block_6_pad (ZeroPadding2D)    (None, 29, 29, 192)  0           ['block_6_expand_relu[0][0]']    \n",
      "                                                                                                  \n",
      " block_6_depthwise (DepthwiseCo  (None, 14, 14, 192)  1728       ['block_6_pad[0][0]']            \n",
      " nv2D)                                                                                            \n",
      "                                                                                                  \n",
      " block_6_depthwise_BN (BatchNor  (None, 14, 14, 192)  768        ['block_6_depthwise[0][0]']      \n",
      " malization)                                                                                      \n",
      "                                                                                                  \n",
      " block_6_depthwise_relu (ReLU)  (None, 14, 14, 192)  0           ['block_6_depthwise_BN[0][0]']   \n",
      "                                                                                                  \n",
      " block_6_project (Conv2D)       (None, 14, 14, 64)   12288       ['block_6_depthwise_relu[0][0]'] \n",
      "                                                                                                  \n",
      " block_6_project_BN (BatchNorma  (None, 14, 14, 64)  256         ['block_6_project[0][0]']        \n"
     ]
    },
    {
     "name": "stdout",
     "output_type": "stream",
     "text": [
      " lization)                                                                                        \n",
      "                                                                                                  \n",
      " block_7_expand (Conv2D)        (None, 14, 14, 384)  24576       ['block_6_project_BN[0][0]']     \n",
      "                                                                                                  \n",
      " block_7_expand_BN (BatchNormal  (None, 14, 14, 384)  1536       ['block_7_expand[0][0]']         \n",
      " ization)                                                                                         \n",
      "                                                                                                  \n",
      " block_7_expand_relu (ReLU)     (None, 14, 14, 384)  0           ['block_7_expand_BN[0][0]']      \n",
      "                                                                                                  \n",
      " block_7_depthwise (DepthwiseCo  (None, 14, 14, 384)  3456       ['block_7_expand_relu[0][0]']    \n",
      " nv2D)                                                                                            \n",
      "                                                                                                  \n",
      " block_7_depthwise_BN (BatchNor  (None, 14, 14, 384)  1536       ['block_7_depthwise[0][0]']      \n",
      " malization)                                                                                      \n",
      "                                                                                                  \n",
      " block_7_depthwise_relu (ReLU)  (None, 14, 14, 384)  0           ['block_7_depthwise_BN[0][0]']   \n",
      "                                                                                                  \n",
      " block_7_project (Conv2D)       (None, 14, 14, 64)   24576       ['block_7_depthwise_relu[0][0]'] \n",
      "                                                                                                  \n",
      " block_7_project_BN (BatchNorma  (None, 14, 14, 64)  256         ['block_7_project[0][0]']        \n",
      " lization)                                                                                        \n",
      "                                                                                                  \n",
      " block_7_add (Add)              (None, 14, 14, 64)   0           ['block_6_project_BN[0][0]',     \n",
      "                                                                  'block_7_project_BN[0][0]']     \n",
      "                                                                                                  \n",
      " block_8_expand (Conv2D)        (None, 14, 14, 384)  24576       ['block_7_add[0][0]']            \n",
      "                                                                                                  \n",
      " block_8_expand_BN (BatchNormal  (None, 14, 14, 384)  1536       ['block_8_expand[0][0]']         \n",
      " ization)                                                                                         \n",
      "                                                                                                  \n",
      " block_8_expand_relu (ReLU)     (None, 14, 14, 384)  0           ['block_8_expand_BN[0][0]']      \n",
      "                                                                                                  \n",
      " block_8_depthwise (DepthwiseCo  (None, 14, 14, 384)  3456       ['block_8_expand_relu[0][0]']    \n",
      " nv2D)                                                                                            \n",
      "                                                                                                  \n",
      " block_8_depthwise_BN (BatchNor  (None, 14, 14, 384)  1536       ['block_8_depthwise[0][0]']      \n",
      " malization)                                                                                      \n",
      "                                                                                                  \n",
      " block_8_depthwise_relu (ReLU)  (None, 14, 14, 384)  0           ['block_8_depthwise_BN[0][0]']   \n",
      "                                                                                                  \n",
      " block_8_project (Conv2D)       (None, 14, 14, 64)   24576       ['block_8_depthwise_relu[0][0]'] \n",
      "                                                                                                  \n",
      " block_8_project_BN (BatchNorma  (None, 14, 14, 64)  256         ['block_8_project[0][0]']        \n",
      " lization)                                                                                        \n",
      "                                                                                                  \n",
      " block_8_add (Add)              (None, 14, 14, 64)   0           ['block_7_add[0][0]',            \n",
      "                                                                  'block_8_project_BN[0][0]']     \n",
      "                                                                                                  \n",
      " block_9_expand (Conv2D)        (None, 14, 14, 384)  24576       ['block_8_add[0][0]']            \n",
      "                                                                                                  \n",
      " block_9_expand_BN (BatchNormal  (None, 14, 14, 384)  1536       ['block_9_expand[0][0]']         \n",
      " ization)                                                                                         \n",
      "                                                                                                  \n",
      " block_9_expand_relu (ReLU)     (None, 14, 14, 384)  0           ['block_9_expand_BN[0][0]']      \n",
      "                                                                                                  \n",
      " block_9_depthwise (DepthwiseCo  (None, 14, 14, 384)  3456       ['block_9_expand_relu[0][0]']    \n",
      " nv2D)                                                                                            \n",
      "                                                                                                  \n",
      " block_9_depthwise_BN (BatchNor  (None, 14, 14, 384)  1536       ['block_9_depthwise[0][0]']      \n",
      " malization)                                                                                      \n",
      "                                                                                                  \n",
      " block_9_depthwise_relu (ReLU)  (None, 14, 14, 384)  0           ['block_9_depthwise_BN[0][0]']   \n",
      "                                                                                                  \n",
      " block_9_project (Conv2D)       (None, 14, 14, 64)   24576       ['block_9_depthwise_relu[0][0]'] \n",
      "                                                                                                  \n",
      " block_9_project_BN (BatchNorma  (None, 14, 14, 64)  256         ['block_9_project[0][0]']        \n",
      " lization)                                                                                        \n",
      "                                                                                                  \n",
      " block_9_add (Add)              (None, 14, 14, 64)   0           ['block_8_add[0][0]',            \n",
      "                                                                  'block_9_project_BN[0][0]']     \n",
      "                                                                                                  \n",
      " block_10_expand (Conv2D)       (None, 14, 14, 384)  24576       ['block_9_add[0][0]']            \n",
      "                                                                                                  \n",
      " block_10_expand_BN (BatchNorma  (None, 14, 14, 384)  1536       ['block_10_expand[0][0]']        \n",
      " lization)                                                                                        \n",
      "                                                                                                  \n",
      " block_10_expand_relu (ReLU)    (None, 14, 14, 384)  0           ['block_10_expand_BN[0][0]']     \n",
      "                                                                                                  \n",
      " block_10_depthwise (DepthwiseC  (None, 14, 14, 384)  3456       ['block_10_expand_relu[0][0]']   \n",
      " onv2D)                                                                                           \n",
      "                                                                                                  \n",
      " block_10_depthwise_BN (BatchNo  (None, 14, 14, 384)  1536       ['block_10_depthwise[0][0]']     \n",
      " rmalization)                                                                                     \n"
     ]
    },
    {
     "name": "stdout",
     "output_type": "stream",
     "text": [
      "                                                                                                  \n",
      " block_10_depthwise_relu (ReLU)  (None, 14, 14, 384)  0          ['block_10_depthwise_BN[0][0]']  \n",
      "                                                                                                  \n",
      " block_10_project (Conv2D)      (None, 14, 14, 96)   36864       ['block_10_depthwise_relu[0][0]']\n",
      "                                                                                                  \n",
      " block_10_project_BN (BatchNorm  (None, 14, 14, 96)  384         ['block_10_project[0][0]']       \n",
      " alization)                                                                                       \n",
      "                                                                                                  \n",
      " block_11_expand (Conv2D)       (None, 14, 14, 576)  55296       ['block_10_project_BN[0][0]']    \n",
      "                                                                                                  \n",
      " block_11_expand_BN (BatchNorma  (None, 14, 14, 576)  2304       ['block_11_expand[0][0]']        \n",
      " lization)                                                                                        \n",
      "                                                                                                  \n",
      " block_11_expand_relu (ReLU)    (None, 14, 14, 576)  0           ['block_11_expand_BN[0][0]']     \n",
      "                                                                                                  \n",
      " block_11_depthwise (DepthwiseC  (None, 14, 14, 576)  5184       ['block_11_expand_relu[0][0]']   \n",
      " onv2D)                                                                                           \n",
      "                                                                                                  \n",
      " block_11_depthwise_BN (BatchNo  (None, 14, 14, 576)  2304       ['block_11_depthwise[0][0]']     \n",
      " rmalization)                                                                                     \n",
      "                                                                                                  \n",
      " block_11_depthwise_relu (ReLU)  (None, 14, 14, 576)  0          ['block_11_depthwise_BN[0][0]']  \n",
      "                                                                                                  \n",
      " block_11_project (Conv2D)      (None, 14, 14, 96)   55296       ['block_11_depthwise_relu[0][0]']\n",
      "                                                                                                  \n",
      " block_11_project_BN (BatchNorm  (None, 14, 14, 96)  384         ['block_11_project[0][0]']       \n",
      " alization)                                                                                       \n",
      "                                                                                                  \n",
      " block_11_add (Add)             (None, 14, 14, 96)   0           ['block_10_project_BN[0][0]',    \n",
      "                                                                  'block_11_project_BN[0][0]']    \n",
      "                                                                                                  \n",
      " block_12_expand (Conv2D)       (None, 14, 14, 576)  55296       ['block_11_add[0][0]']           \n",
      "                                                                                                  \n",
      " block_12_expand_BN (BatchNorma  (None, 14, 14, 576)  2304       ['block_12_expand[0][0]']        \n",
      " lization)                                                                                        \n",
      "                                                                                                  \n",
      " block_12_expand_relu (ReLU)    (None, 14, 14, 576)  0           ['block_12_expand_BN[0][0]']     \n",
      "                                                                                                  \n",
      " block_12_depthwise (DepthwiseC  (None, 14, 14, 576)  5184       ['block_12_expand_relu[0][0]']   \n",
      " onv2D)                                                                                           \n",
      "                                                                                                  \n",
      " block_12_depthwise_BN (BatchNo  (None, 14, 14, 576)  2304       ['block_12_depthwise[0][0]']     \n",
      " rmalization)                                                                                     \n",
      "                                                                                                  \n",
      " block_12_depthwise_relu (ReLU)  (None, 14, 14, 576)  0          ['block_12_depthwise_BN[0][0]']  \n",
      "                                                                                                  \n",
      " block_12_project (Conv2D)      (None, 14, 14, 96)   55296       ['block_12_depthwise_relu[0][0]']\n",
      "                                                                                                  \n",
      " block_12_project_BN (BatchNorm  (None, 14, 14, 96)  384         ['block_12_project[0][0]']       \n",
      " alization)                                                                                       \n",
      "                                                                                                  \n",
      " block_12_add (Add)             (None, 14, 14, 96)   0           ['block_11_add[0][0]',           \n",
      "                                                                  'block_12_project_BN[0][0]']    \n",
      "                                                                                                  \n",
      " block_13_expand (Conv2D)       (None, 14, 14, 576)  55296       ['block_12_add[0][0]']           \n",
      "                                                                                                  \n",
      " block_13_expand_BN (BatchNorma  (None, 14, 14, 576)  2304       ['block_13_expand[0][0]']        \n",
      " lization)                                                                                        \n",
      "                                                                                                  \n",
      " block_13_expand_relu (ReLU)    (None, 14, 14, 576)  0           ['block_13_expand_BN[0][0]']     \n",
      "                                                                                                  \n",
      " block_13_pad (ZeroPadding2D)   (None, 15, 15, 576)  0           ['block_13_expand_relu[0][0]']   \n",
      "                                                                                                  \n",
      " block_13_depthwise (DepthwiseC  (None, 7, 7, 576)   5184        ['block_13_pad[0][0]']           \n",
      " onv2D)                                                                                           \n",
      "                                                                                                  \n",
      " block_13_depthwise_BN (BatchNo  (None, 7, 7, 576)   2304        ['block_13_depthwise[0][0]']     \n",
      " rmalization)                                                                                     \n",
      "                                                                                                  \n",
      " block_13_depthwise_relu (ReLU)  (None, 7, 7, 576)   0           ['block_13_depthwise_BN[0][0]']  \n",
      "                                                                                                  \n",
      " block_13_project (Conv2D)      (None, 7, 7, 160)    92160       ['block_13_depthwise_relu[0][0]']\n",
      "                                                                                                  \n",
      " block_13_project_BN (BatchNorm  (None, 7, 7, 160)   640         ['block_13_project[0][0]']       \n",
      " alization)                                                                                       \n",
      "                                                                                                  \n",
      " block_14_expand (Conv2D)       (None, 7, 7, 960)    153600      ['block_13_project_BN[0][0]']    \n",
      "                                                                                                  \n",
      " block_14_expand_BN (BatchNorma  (None, 7, 7, 960)   3840        ['block_14_expand[0][0]']        \n",
      " lization)                                                                                        \n",
      "                                                                                                  \n",
      " block_14_expand_relu (ReLU)    (None, 7, 7, 960)    0           ['block_14_expand_BN[0][0]']     \n",
      "                                                                                                  \n"
     ]
    },
    {
     "name": "stdout",
     "output_type": "stream",
     "text": [
      " block_14_depthwise (DepthwiseC  (None, 7, 7, 960)   8640        ['block_14_expand_relu[0][0]']   \n",
      " onv2D)                                                                                           \n",
      "                                                                                                  \n",
      " block_14_depthwise_BN (BatchNo  (None, 7, 7, 960)   3840        ['block_14_depthwise[0][0]']     \n",
      " rmalization)                                                                                     \n",
      "                                                                                                  \n",
      " block_14_depthwise_relu (ReLU)  (None, 7, 7, 960)   0           ['block_14_depthwise_BN[0][0]']  \n",
      "                                                                                                  \n",
      " block_14_project (Conv2D)      (None, 7, 7, 160)    153600      ['block_14_depthwise_relu[0][0]']\n",
      "                                                                                                  \n",
      " block_14_project_BN (BatchNorm  (None, 7, 7, 160)   640         ['block_14_project[0][0]']       \n",
      " alization)                                                                                       \n",
      "                                                                                                  \n",
      " block_14_add (Add)             (None, 7, 7, 160)    0           ['block_13_project_BN[0][0]',    \n",
      "                                                                  'block_14_project_BN[0][0]']    \n",
      "                                                                                                  \n",
      " block_15_expand (Conv2D)       (None, 7, 7, 960)    153600      ['block_14_add[0][0]']           \n",
      "                                                                                                  \n",
      " block_15_expand_BN (BatchNorma  (None, 7, 7, 960)   3840        ['block_15_expand[0][0]']        \n",
      " lization)                                                                                        \n",
      "                                                                                                  \n",
      " block_15_expand_relu (ReLU)    (None, 7, 7, 960)    0           ['block_15_expand_BN[0][0]']     \n",
      "                                                                                                  \n",
      " block_15_depthwise (DepthwiseC  (None, 7, 7, 960)   8640        ['block_15_expand_relu[0][0]']   \n",
      " onv2D)                                                                                           \n",
      "                                                                                                  \n",
      " block_15_depthwise_BN (BatchNo  (None, 7, 7, 960)   3840        ['block_15_depthwise[0][0]']     \n",
      " rmalization)                                                                                     \n",
      "                                                                                                  \n",
      " block_15_depthwise_relu (ReLU)  (None, 7, 7, 960)   0           ['block_15_depthwise_BN[0][0]']  \n",
      "                                                                                                  \n",
      " block_15_project (Conv2D)      (None, 7, 7, 160)    153600      ['block_15_depthwise_relu[0][0]']\n",
      "                                                                                                  \n",
      " block_15_project_BN (BatchNorm  (None, 7, 7, 160)   640         ['block_15_project[0][0]']       \n",
      " alization)                                                                                       \n",
      "                                                                                                  \n",
      " block_15_add (Add)             (None, 7, 7, 160)    0           ['block_14_add[0][0]',           \n",
      "                                                                  'block_15_project_BN[0][0]']    \n",
      "                                                                                                  \n",
      " block_16_expand (Conv2D)       (None, 7, 7, 960)    153600      ['block_15_add[0][0]']           \n",
      "                                                                                                  \n",
      " block_16_expand_BN (BatchNorma  (None, 7, 7, 960)   3840        ['block_16_expand[0][0]']        \n",
      " lization)                                                                                        \n",
      "                                                                                                  \n",
      " block_16_expand_relu (ReLU)    (None, 7, 7, 960)    0           ['block_16_expand_BN[0][0]']     \n",
      "                                                                                                  \n",
      " block_16_depthwise (DepthwiseC  (None, 7, 7, 960)   8640        ['block_16_expand_relu[0][0]']   \n",
      " onv2D)                                                                                           \n",
      "                                                                                                  \n",
      " block_16_depthwise_BN (BatchNo  (None, 7, 7, 960)   3840        ['block_16_depthwise[0][0]']     \n",
      " rmalization)                                                                                     \n",
      "                                                                                                  \n",
      " block_16_depthwise_relu (ReLU)  (None, 7, 7, 960)   0           ['block_16_depthwise_BN[0][0]']  \n",
      "                                                                                                  \n",
      " block_16_project (Conv2D)      (None, 7, 7, 320)    307200      ['block_16_depthwise_relu[0][0]']\n",
      "                                                                                                  \n",
      " block_16_project_BN (BatchNorm  (None, 7, 7, 320)   1280        ['block_16_project[0][0]']       \n",
      " alization)                                                                                       \n",
      "                                                                                                  \n",
      " Conv_1 (Conv2D)                (None, 7, 7, 1280)   409600      ['block_16_project_BN[0][0]']    \n",
      "                                                                                                  \n",
      " Conv_1_bn (BatchNormalization)  (None, 7, 7, 1280)  5120        ['Conv_1[0][0]']                 \n",
      "                                                                                                  \n",
      " out_relu (ReLU)                (None, 7, 7, 1280)   0           ['Conv_1_bn[0][0]']              \n",
      "                                                                                                  \n",
      " global_average_pooling2d (Glob  (None, 1280)        0           ['out_relu[0][0]']               \n",
      " alAveragePooling2D)                                                                              \n",
      "                                                                                                  \n",
      "==================================================================================================\n",
      "Total params: 2,257,984\n",
      "Trainable params: 2,223,872\n",
      "Non-trainable params: 34,112\n",
      "__________________________________________________________________________________________________\n"
     ]
    }
   ],
   "source": [
    "model_initial = MobileNetV2(weights='imagenet',\n",
    "                            include_top=True,\n",
    "                            input_shape=(224, 224, 3))\n",
    "\n",
    "model_transfer_learning = Model(inputs=model_initial.input,\n",
    "                                outputs=model_initial.layers[-2].output)\n",
    "\n",
    "model_transfer_learning.summary()"
   ]
  },
  {
   "cell_type": "markdown",
   "id": "f827fa48",
   "metadata": {},
   "source": [
    "Afin que tous les workers (ordinateurs/serveurs) puissent accéder au modèle ainsi qu'à ses poids, nous chargeons le modèle sur le driver puis les poids sont diffusés aux différents workeurs."
   ]
  },
  {
   "cell_type": "code",
   "execution_count": 10,
   "id": "50a8811e",
   "metadata": {},
   "outputs": [],
   "source": [
    "broadcast_weights = sc.broadcast(model_transfer_learning.get_weights())"
   ]
  },
  {
   "cell_type": "code",
   "execution_count": 11,
   "id": "5347667a",
   "metadata": {},
   "outputs": [
    {
     "data": {
      "text/plain": [
       "<pyspark.broadcast.Broadcast at 0x7f0d2ccbb670>"
      ]
     },
     "execution_count": 11,
     "metadata": {},
     "output_type": "execute_result"
    }
   ],
   "source": [
    "broadcast_weights"
   ]
  },
  {
   "cell_type": "code",
   "execution_count": 12,
   "id": "27cc1034",
   "metadata": {},
   "outputs": [
    {
     "name": "stdout",
     "output_type": "stream",
     "text": [
      "260\n"
     ]
    }
   ],
   "source": [
    "print(len(model_transfer_learning.get_weights()))"
   ]
  },
  {
   "cell_type": "markdown",
   "id": "3ab46f81",
   "metadata": {},
   "source": [
    "Nous allons créer des fonctions permettant de :\n",
    "- retourner le modèle dont la diffusion des poids du modèle est traitée,\n",
    "- prétraiter les images (changement de dimension puis transformation en array) et\n",
    "- retourner un pd.Series de chaque données d'entrée dont la dimension sera (1,1,1280).\n",
    "\n",
    "Enfin, nous créeons une application Spark (@pandas_udf) qui combinera l'ensemble des fonctions précédentes."
   ]
  },
  {
   "cell_type": "code",
   "execution_count": 13,
   "id": "3cd60d75",
   "metadata": {},
   "outputs": [],
   "source": [
    "def model_fn():\n",
    "    \"\"\"\n",
    "    Retourne un modèle MobileNetV2 où la dernière couche a été retirée\n",
    "    et avec une diffusion des poids du modèle pré-entraîné.\n",
    "    \"\"\"\n",
    "    model = MobileNetV2(weights=None,\n",
    "                        include_top=True,\n",
    "                        input_shape=(224, 224, 3))\n",
    "    for layer in model.layers:\n",
    "        layer.trainable = False\n",
    "    new_model = Model(inputs=model.input,\n",
    "                  outputs=model.layers[-2].output)\n",
    "    new_model.set_weights(broadcast_weights.value)\n",
    "    return new_model"
   ]
  },
  {
   "cell_type": "code",
   "execution_count": 14,
   "id": "2c3077bf",
   "metadata": {},
   "outputs": [],
   "source": [
    "def pretraitement(content):\n",
    "    \"\"\"\n",
    "    Prétraitement des images brut pour les mettre à la bonne dimension (224,224,3).\n",
    "    \"\"\"\n",
    "    img = Image.open(io.BytesIO(content)).resize([224, 224])\n",
    "    arr = img_to_array(img)\n",
    "    return preprocess_input(arr)"
   ]
  },
  {
   "cell_type": "code",
   "execution_count": 15,
   "id": "52a06c50",
   "metadata": {},
   "outputs": [],
   "source": [
    "def featurize_series(model, content_series):\n",
    "    \"\"\"\n",
    "    Featurize a pd.Series of raw images using the input model.\n",
    "    :return: a pd.Series of image features\n",
    "    \"\"\"\n",
    "    input = np.stack(content_series.map(pretraitement))\n",
    "    preds = model.predict(input)\n",
    "    # For some layers, output features will be multi-dimensional tensors.\n",
    "    # We flatten the feature tensors to vectors for easier storage in Spark DataFrames.\n",
    "    output = [p.flatten() for p in preds]\n",
    "    return pd.Series(output)"
   ]
  },
  {
   "cell_type": "code",
   "execution_count": 16,
   "id": "c5f011f8",
   "metadata": {},
   "outputs": [
    {
     "name": "stderr",
     "output_type": "stream",
     "text": [
      "/home/faridkameche/anaconda3/lib/python3.10/site-packages/pyspark/sql/pandas/functions.py:399: UserWarning: In Python 3.6+ and Spark 3.0+, it is preferred to specify type hints for pandas UDF instead of specifying pandas UDF type which will be deprecated in the future releases. See SPARK-28264 for more details.\n",
      "  warnings.warn(\n"
     ]
    }
   ],
   "source": [
    "@pandas_udf('array<float>', PandasUDFType.SCALAR_ITER)\n",
    "def featurize_udf(content_series_iter):\n",
    "    '''\n",
    "    This method is a Scalar Iterator pandas UDF wrapping our featurization function.\n",
    "    The decorator specifies that this returns a Spark DataFrame column of type ArrayType(FloatType).\n",
    "\n",
    "    :param content_series_iter: This argument is an iterator over batches of data, where each batch\n",
    "                                is a pandas Series of image data.\n",
    "    '''\n",
    "    # With Scalar Iterator pandas UDFs, we can load the model once and then re-use it\n",
    "    # for multiple data batches. This amortizes the overhead of loading big models.\n",
    "    model = model_fn()\n",
    "    for content_series in content_series_iter:\n",
    "        yield featurize_series(model, content_series)"
   ]
  },
  {
   "cell_type": "markdown",
   "id": "10a3b9a4",
   "metadata": {},
   "source": [
    "Nous créeons un nouveau dataframe pandas udf basé sur le dataframe \"images\". Les deux premières colonnes représentent les deux colonnes du dataframe pandas udf \"images\" (\"path\" et \"label\"). La troisème colonne représente le résultat de l'application @pandas_udf (featurization)."
   ]
  },
  {
   "cell_type": "code",
   "execution_count": 17,
   "id": "9acbe270",
   "metadata": {},
   "outputs": [],
   "source": [
    "features_df = images.repartition(20).select(col(\"path\"),\n",
    "                                            col(\"label\"),\n",
    "                                            featurize_udf(\"content\").alias(\"features\")\n",
    "                                           )"
   ]
  },
  {
   "cell_type": "markdown",
   "id": "56ee91e0",
   "metadata": {},
   "source": [
    "<a class=\"anchor\" id=\"section_2_2\"></a>\n",
    "## Réduction dimensionnelle\n",
    "En appliquant le modèle MobilenNetV2, les features comportent 1280 valeurs. Nous allons réduire ce nombre grâce a une ACP. Nous allons d'abord normaliser les données grâce à un RobustScaler puis effectuer une ACP.\n",
    "\n",
    "Pour ce faire, nous devons convertir chaque feature, qui sont des arrays en vecteurs pour que la normalisation et l'ACP puisse se faire. Nous imposerons ensuite que le nombre de composantes principales soit de 1280 pour commencer."
   ]
  },
  {
   "cell_type": "code",
   "execution_count": 18,
   "id": "3dc1f55d",
   "metadata": {
    "scrolled": true
   },
   "outputs": [
    {
     "name": "stderr",
     "output_type": "stream",
     "text": [
      "2023-06-18 11:45:40.864540: I tensorflow/core/platform/cpu_feature_guard.cc:193] This TensorFlow binary is optimized with oneAPI Deep Neural Network Library (oneDNN) to use the following CPU instructions in performance-critical operations:  SSE4.1 SSE4.2\n",
      "To enable them in other operations, rebuild TensorFlow with the appropriate compiler flags.\n",
      "2023-06-18 11:45:42.280962: I tensorflow/core/platform/cpu_feature_guard.cc:193] This TensorFlow binary is optimized with oneAPI Deep Neural Network Library (oneDNN) to use the following CPU instructions in performance-critical operations:  SSE4.1 SSE4.2\n",
      "To enable them in other operations, rebuild TensorFlow with the appropriate compiler flags.\n",
      "2023-06-18 11:45:42.282419: I tensorflow/core/common_runtime/process_util.cc:146] Creating new thread pool with default inter op setting: 2. Tune using inter_op_parallelism_threads for best performance.\n",
      "1/1 [==============================] - 1s 769ms/step\n",
      "2023-06-18 11:45:45.753944: I tensorflow/core/platform/cpu_feature_guard.cc:193] This TensorFlow binary is optimized with oneAPI Deep Neural Network Library (oneDNN) to use the following CPU instructions in performance-critical operations:  SSE4.1 SSE4.2\n",
      "To enable them in other operations, rebuild TensorFlow with the appropriate compiler flags.\n",
      "2023-06-18 11:45:48.631700: I tensorflow/core/platform/cpu_feature_guard.cc:193] This TensorFlow binary is optimized with oneAPI Deep Neural Network Library (oneDNN) to use the following CPU instructions in performance-critical operations:  SSE4.1 SSE4.2\n",
      "To enable them in other operations, rebuild TensorFlow with the appropriate compiler flags.\n",
      "2023-06-18 11:45:48.636774: I tensorflow/core/common_runtime/process_util.cc:146] Creating new thread pool with default inter op setting: 2. Tune using inter_op_parallelism_threads for best performance.\n",
      "1/1 [==============================] - 2s 2s/step\n",
      "1/1 [==============================] - 2s 2s/step                  (1 + 1) / 20]\n",
      "1/1 [==============================] - 2s 2s/step                  (2 + 1) / 20]\n",
      "1/1 [==============================] - 1s 1s/step                  (3 + 1) / 20]\n",
      "WARNING:tensorflow:5 out of the last 5 calls to <function Model.make_predict_function.<locals>.predict_function at 0x7f2af33faa70> triggered tf.function retracing. Tracing is expensive and the excessive number of tracings could be due to (1) creating @tf.function repeatedly in a loop, (2) passing tensors with different shapes, (3) passing Python objects instead of tensors. For (1), please define your @tf.function outside of the loop. For (2), @tf.function has reduce_retracing=True option that can avoid unnecessary retracing. For (3), please refer to https://www.tensorflow.org/guide/function#controlling_retracing and https://www.tensorflow.org/api_docs/python/tf/function for  more details.\n",
      "1/1 [==============================] - 2s 2s/step\n",
      "WARNING:tensorflow:6 out of the last 6 calls to <function Model.make_predict_function.<locals>.predict_function at 0x7f2af3436b90> triggered tf.function retracing. Tracing is expensive and the excessive number of tracings could be due to (1) creating @tf.function repeatedly in a loop, (2) passing tensors with different shapes, (3) passing Python objects instead of tensors. For (1), please define your @tf.function outside of the loop. For (2), @tf.function has reduce_retracing=True option that can avoid unnecessary retracing. For (3), please refer to https://www.tensorflow.org/guide/function#controlling_retracing and https://www.tensorflow.org/api_docs/python/tf/function for  more details.\n",
      "1/1 [==============================] - 2s 2s/step\n",
      "1/1 [==============================] - 1s 1s/step                  (6 + 1) / 20]\n",
      "1/1 [==============================] - 2s 2s/step                  (7 + 1) / 20]\n",
      "1/1 [==============================] - 2s 2s/step                  (8 + 1) / 20]\n",
      "1/1 [==============================] - 2s 2s/step                  (9 + 1) / 20]\n",
      "1/1 [==============================] - 2s 2s/step                 (10 + 1) / 20]\n",
      "1/1 [==============================] - 3s 3s/step                 (11 + 1) / 20]\n",
      "1/1 [==============================] - 2s 2s/step                 (12 + 1) / 20]\n",
      "1/1 [==============================] - 3s 3s/step                 (13 + 1) / 20]\n",
      "1/1 [==============================] - 2s 2s/step                 (14 + 1) / 20]\n",
      "1/1 [==============================] - 2s 2s/step==>              (15 + 1) / 20]\n",
      "1/1 [==============================] - 2s 2s/step=====>           (16 + 1) / 20]\n",
      "1/1 [==============================] - 2s 2s/step========>        (17 + 1) / 20]\n",
      "1/1 [==============================] - 2s 2s/step===========>     (18 + 1) / 20]\n",
      "1/1 [==============================] - 2s 2s/step==============>  (19 + 1) / 20]\n",
      "                                                                                \r"
     ]
    }
   ],
   "source": [
    "from pyspark.ml.feature import PCA, StandardScaler, RobustScaler\n",
    "from pyspark.ml.linalg import Vectors, VectorUDT\n",
    "\n",
    "arr_to_vect = udf(lambda a:Vectors.dense(a), VectorUDT())\n",
    "vect_features_df = features_df.withColumn(\"vecteur\", arr_to_vect(\"features\"))\n",
    "\n",
    "scaler = RobustScaler(inputCol=\"vecteur\", outputCol=\"scaled_features\").fit(vect_features_df)\n",
    "# scaler_std = StandardScaler(inputCol=\"vecteur\", outputCol=\"scaled_features\").fit(vect_features_df)"
   ]
  },
  {
   "cell_type": "code",
   "execution_count": 19,
   "id": "f57a17ae",
   "metadata": {},
   "outputs": [],
   "source": [
    "df_std = scaler.transform(vect_features_df)\n",
    "# df_std = scaler_std.transform(vect_features_df)"
   ]
  },
  {
   "cell_type": "code",
   "execution_count": 20,
   "id": "d657f9d0",
   "metadata": {
    "scrolled": true
   },
   "outputs": [
    {
     "name": "stderr",
     "output_type": "stream",
     "text": [
      "1/1 [==============================] - 2s 2s/step                   (0 + 1) / 1]\n",
      "1/1 [==============================] - 2s 2s/step                   (0 + 1) / 1]\n",
      "1/1 [==============================] - 2s 2s/step                  (0 + 1) / 20]\n",
      "1/1 [==============================] - 1s 1s/step                  (1 + 1) / 20]\n",
      "1/1 [==============================] - 1s 1s/step                  (2 + 1) / 20]\n",
      "1/1 [==============================] - 2s 2s/step                  (3 + 1) / 20]\n",
      "1/1 [==============================] - 1s 1s/step                  (4 + 1) / 20]\n",
      "1/1 [==============================] - 2s 2s/step                  (5 + 1) / 20]\n",
      "1/1 [==============================] - 2s 2s/step                  (6 + 1) / 20]\n",
      "1/1 [==============================] - 2s 2s/step                  (7 + 1) / 20]\n",
      "1/1 [==============================] - 2s 2s/step                  (8 + 1) / 20]\n",
      "1/1 [==============================] - 2s 2s/step                  (9 + 1) / 20]\n",
      "1/1 [==============================] - 2s 2s/step                 (10 + 1) / 20]\n",
      "1/1 [==============================] - 3s 3s/step                 (11 + 1) / 20]\n",
      "1/1 [==============================] - 2s 2s/step                 (12 + 1) / 20]\n",
      "1/1 [==============================] - 2s 2s/step                 (13 + 1) / 20]\n",
      "1/1 [==============================] - 2s 2s/step>                (14 + 1) / 20]\n",
      "1/1 [==============================] - 2s 2s/step===>             (15 + 1) / 20]\n",
      "1/1 [==============================] - 2s 2s/step=====>           (16 + 1) / 20]\n",
      "1/1 [==============================] - 3s 3s/step========>        (17 + 1) / 20]\n",
      "1/1 [==============================] - 2s 2s/step===========>     (18 + 1) / 20]\n",
      "1/1 [==============================] - 3s 3s/step==============>  (19 + 1) / 20]\n",
      "1/1 [==============================] - 2s 2s/step                   (0 + 1) / 1]\n",
      "1/1 [==============================] - 2s 2s/step                  (0 + 1) / 20]\n",
      "23/06/18 11:48:32 WARN InstanceBuilder: Failed to load implementation from:dev.ludovic.netlib.blas.JNIBLAS\n",
      "1/1 [==============================] - 2s 2s/step                  (1 + 1) / 20]\n",
      "1/1 [==============================] - 2s 2s/step                  (2 + 1) / 20]\n",
      "1/1 [==============================] - 2s 2s/step                  (3 + 1) / 20]\n",
      "1/1 [==============================] - 2s 2s/step                  (4 + 1) / 20]\n",
      "1/1 [==============================] - 2s 2s/step                  (5 + 1) / 20]\n",
      "1/1 [==============================] - 2s 2s/step                  (6 + 1) / 20]\n",
      "1/1 [==============================] - 1s 1s/step                  (7 + 1) / 20]\n",
      "1/1 [==============================] - 2s 2s/step                  (8 + 1) / 20]\n",
      "1/1 [==============================] - 2s 2s/step                  (9 + 1) / 20]\n",
      "1/1 [==============================] - 2s 2s/step                 (10 + 1) / 20]\n",
      "1/1 [==============================] - 2s 2s/step                 (11 + 1) / 20]\n",
      "1/1 [==============================] - 2s 2s/step                 (12 + 1) / 20]\n",
      "1/1 [==============================] - 2s 2s/step                 (13 + 1) / 20]\n",
      "1/1 [==============================] - 2s 2s/step>                (14 + 1) / 20]\n",
      "1/1 [==============================] - 2s 2s/step===>             (15 + 1) / 20]\n",
      "1/1 [==============================] - 2s 2s/step=====>           (16 + 1) / 20]\n",
      "1/1 [==============================] - 2s 2s/step========>        (17 + 1) / 20]\n",
      "1/1 [==============================] - 2s 2s/step===========>     (18 + 1) / 20]\n",
      "1/1 [==============================] - 2s 2s/step==============>  (19 + 1) / 20]\n",
      "23/06/18 11:49:34 WARN InstanceBuilder: Failed to load implementation from:dev.ludovic.netlib.lapack.JNILAPACK\n"
     ]
    }
   ],
   "source": [
    "n_components=1280\n",
    "\n",
    "pca = PCA(k=n_components, inputCol=\"scaled_features\", outputCol=\"pca_features\").fit(df_std)"
   ]
  },
  {
   "cell_type": "code",
   "execution_count": 21,
   "id": "6feb212e",
   "metadata": {},
   "outputs": [],
   "source": [
    "data_pca = pca.transform(df_std)"
   ]
  },
  {
   "cell_type": "markdown",
   "id": "4b52e473",
   "metadata": {},
   "source": [
    "Nous traçons l'éboulis des valeurs propres pour déterminer combien de composantes princiaples expliquent 90 % des données."
   ]
  },
  {
   "cell_type": "code",
   "execution_count": 22,
   "id": "325eb5a9",
   "metadata": {},
   "outputs": [
    {
     "data": {
      "image/png": "[encoded data removed]",
      "text/plain": [
       "<Figure size 500x300 with 1 Axes>"
      ]
     },
     "metadata": {},
     "output_type": "display_data"
    }
   ],
   "source": [
    "import matplotlib.pyplot as plt\n",
    "\n",
    "exp_var = pca.explainedVariance.cumsum()\n",
    "n_comp = len(exp_var) - len(exp_var[exp_var>0.9])\n",
    "\n",
    "plt.figure(figsize=(5,3))\n",
    "\n",
    "plt.scatter(x = np.arange(1,1281),y=exp_var*100, color=\"gray\")\n",
    "\n",
    "plt.axhline(y=90, color=\"firebrick\", ls = \"--\") \n",
    "plt.axvline(x=n_comp, color=\"firebrick\", ls = \"--\") \n",
    "\n",
    "plt.text(n_comp+10, 80, f\"{n_comp} composantes\")\n",
    "plt.xlabel(\"Nombre de composantes principales\")\n",
    "plt.ylabel(\"Variance expliquée\")\n",
    "\n",
    "plt.xlim(-50,1285)\n",
    "plt.ylim(-2,105)\n",
    "plt.title(\"Eboulis des valeurs propres\")\n",
    "\n",
    "plt.show()"
   ]
  },
  {
   "cell_type": "markdown",
   "id": "c9745819",
   "metadata": {},
   "source": [
    "Nous voyons que nous pouvons expliquer 90 % des données avec 67 composantes principales. Nous allons recommencer l'ACP en choisissant 67 comme nouveau nombre de composantes principales."
   ]
  },
  {
   "cell_type": "code",
   "execution_count": 23,
   "id": "034b2a2f",
   "metadata": {
    "scrolled": true
   },
   "outputs": [
    {
     "name": "stderr",
     "output_type": "stream",
     "text": [
      "2023-06-18 14:00:20.721894: I tensorflow/core/platform/cpu_feature_guard.cc:193] This TensorFlow binary is optimized with oneAPI Deep Neural Network Library (oneDNN) to use the following CPU instructions in performance-critical operations:  SSE4.1 SSE4.2\n",
      "To enable them in other operations, rebuild TensorFlow with the appropriate compiler flags.\n",
      "2023-06-18 14:00:24.790517: I tensorflow/core/platform/cpu_feature_guard.cc:193] This TensorFlow binary is optimized with oneAPI Deep Neural Network Library (oneDNN) to use the following CPU instructions in performance-critical operations:  SSE4.1 SSE4.2\n",
      "To enable them in other operations, rebuild TensorFlow with the appropriate compiler flags.\n",
      "2023-06-18 14:00:24.798093: I tensorflow/core/common_runtime/process_util.cc:146] Creating new thread pool with default inter op setting: 2. Tune using inter_op_parallelism_threads for best performance.\n",
      "1/1 [==============================] - 3s 3s/step\n",
      "1/1 [==============================] - 2s 2s/step                   (0 + 1) / 1]\n",
      "1/1 [==============================] - 2s 2s/step                  (0 + 1) / 20]\n",
      "1/1 [==============================] - 2s 2s/step                  (1 + 1) / 20]\n",
      "WARNING:tensorflow:5 out of the last 5 calls to <function Model.make_predict_function.<locals>.predict_function at 0x7f2aef3f6a70> triggered tf.function retracing. Tracing is expensive and the excessive number of tracings could be due to (1) creating @tf.function repeatedly in a loop, (2) passing tensors with different shapes, (3) passing Python objects instead of tensors. For (1), please define your @tf.function outside of the loop. For (2), @tf.function has reduce_retracing=True option that can avoid unnecessary retracing. For (3), please refer to https://www.tensorflow.org/guide/function#controlling_retracing and https://www.tensorflow.org/api_docs/python/tf/function for  more details.\n",
      "1/1 [==============================] - 2s 2s/step\n",
      "WARNING:tensorflow:6 out of the last 6 calls to <function Model.make_predict_function.<locals>.predict_function at 0x7f2aef4f2b90> triggered tf.function retracing. Tracing is expensive and the excessive number of tracings could be due to (1) creating @tf.function repeatedly in a loop, (2) passing tensors with different shapes, (3) passing Python objects instead of tensors. For (1), please define your @tf.function outside of the loop. For (2), @tf.function has reduce_retracing=True option that can avoid unnecessary retracing. For (3), please refer to https://www.tensorflow.org/guide/function#controlling_retracing and https://www.tensorflow.org/api_docs/python/tf/function for  more details.\n",
      "1/1 [==============================] - 2s 2s/step\n",
      "1/1 [==============================] - 2s 2s/step                  (4 + 1) / 20]\n",
      "1/1 [==============================] - 2s 2s/step                  (5 + 1) / 20]\n",
      "1/1 [==============================] - 2s 2s/step                  (6 + 1) / 20]\n",
      "1/1 [==============================] - 2s 2s/step                  (7 + 1) / 20]\n",
      "1/1 [==============================] - 2s 2s/step                  (8 + 1) / 20]\n",
      "1/1 [==============================] - 2s 2s/step                  (9 + 1) / 20]\n",
      "1/1 [==============================] - 2s 2s/step                 (10 + 1) / 20]\n",
      "1/1 [==============================] - 2s 2s/step                 (11 + 1) / 20]\n",
      "1/1 [==============================] - 2s 2s/step                 (12 + 1) / 20]\n",
      "1/1 [==============================] - 2s 2s/step                 (13 + 1) / 20]\n",
      "1/1 [==============================] - 2s 2s/step>                (14 + 1) / 20]\n",
      "1/1 [==============================] - 2s 2s/step===>             (15 + 1) / 20]\n",
      "1/1 [==============================] - 2s 2s/step=====>           (16 + 1) / 20]\n",
      "1/1 [==============================] - 2s 2s/step========>        (17 + 1) / 20]\n",
      "1/1 [==============================] - 2s 2s/step===========>     (18 + 1) / 20]\n",
      "1/1 [==============================] - 2s 2s/step==============>  (19 + 1) / 20]\n",
      "1/1 [==============================] - 2s 2s/step                   (0 + 1) / 1]\n",
      "1/1 [==============================] - 2s 2s/step                  (0 + 1) / 20]\n",
      "1/1 [==============================] - 2s 2s/step                  (1 + 1) / 20]\n",
      "1/1 [==============================] - 2s 2s/step                  (2 + 1) / 20]\n",
      "1/1 [==============================] - 2s 2s/step                  (3 + 1) / 20]\n",
      "1/1 [==============================] - 2s 2s/step                  (4 + 1) / 20]\n",
      "1/1 [==============================] - 2s 2s/step                  (5 + 1) / 20]\n",
      "1/1 [==============================] - 2s 2s/step                  (6 + 1) / 20]\n",
      "1/1 [==============================] - 2s 2s/step                  (7 + 1) / 20]\n",
      "1/1 [==============================] - 2s 2s/step                  (8 + 1) / 20]\n",
      "1/1 [==============================] - 2s 2s/step                  (9 + 1) / 20]\n",
      "1/1 [==============================] - 2s 2s/step                 (10 + 1) / 20]\n",
      "1/1 [==============================] - 2s 2s/step                 (11 + 1) / 20]\n",
      "1/1 [==============================] - 2s 2s/step                 (12 + 1) / 20]\n",
      "1/1 [==============================] - 2s 2s/step                 (13 + 1) / 20]\n",
      "1/1 [==============================] - 2s 2s/step>                (14 + 1) / 20]\n",
      "1/1 [==============================] - 2s 2s/step===>             (15 + 1) / 20]\n",
      "1/1 [==============================] - 2s 2s/step=====>           (16 + 1) / 20]\n",
      "1/1 [==============================] - 2s 2s/step========>        (17 + 1) / 20]\n",
      "1/1 [==============================] - 3s 3s/step===========>     (18 + 1) / 20]\n",
      "1/1 [==============================] - 2s 2s/step==============>  (19 + 1) / 20]\n",
      "                                                                                \r"
     ]
    }
   ],
   "source": [
    "pca = PCA(k=67, inputCol=\"vecteur\", outputCol=\"pca_features\").fit(vect_features_df)\n",
    "\n",
    "data_pca = pca.transform(vect_features_df)"
   ]
  },
  {
   "cell_type": "code",
   "execution_count": 24,
   "id": "9f9c0bcf",
   "metadata": {},
   "outputs": [],
   "source": [
    "from pyspark.ml.functions import vector_to_array\n",
    "\n",
    "data_to_keep = data_pca.select(\"path\",\"label\", vector_to_array(\"pca_features\").alias(\"pca_features\"))"
   ]
  },
  {
   "cell_type": "code",
   "execution_count": 25,
   "id": "9647cae4",
   "metadata": {
    "scrolled": true
   },
   "outputs": [
    {
     "name": "stdout",
     "output_type": "stream",
     "text": [
      "root\n",
      " |-- path: string (nullable = true)\n",
      " |-- label: string (nullable = true)\n",
      " |-- pca_features: array (nullable = false)\n",
      " |    |-- element: double (containsNull = false)\n",
      "\n"
     ]
    }
   ],
   "source": [
    "data_to_keep.printSchema()"
   ]
  },
  {
   "cell_type": "markdown",
   "id": "64d262f7",
   "metadata": {},
   "source": [
    "<a class=\"anchor\" id=\"section_2_3\"></a>\n",
    "## Sauvegarde des données\n",
    "Nous enregistrons les données au format \"parquet\" et nous allons réimporter les résultats pour les lire avec un pandas dataframe."
   ]
  },
  {
   "cell_type": "code",
   "execution_count": 26,
   "id": "85356aba",
   "metadata": {
    "scrolled": true
   },
   "outputs": [
    {
     "name": "stderr",
     "output_type": "stream",
     "text": [
      "1/1 [==============================] - 2s 2s/step                  (0 + 1) / 20]\n",
      "1/1 [==============================] - 2s 2s/step                  (1 + 1) / 20]\n",
      "1/1 [==============================] - 2s 2s/step                  (2 + 1) / 20]\n",
      "1/1 [==============================] - 2s 2s/step                  (3 + 1) / 20]\n",
      "1/1 [==============================] - 2s 2s/step                  (4 + 1) / 20]\n",
      "1/1 [==============================] - 2s 2s/step                  (5 + 1) / 20]\n",
      "1/1 [==============================] - 2s 2s/step                  (6 + 1) / 20]\n",
      "1/1 [==============================] - 2s 2s/step                  (7 + 1) / 20]\n",
      "1/1 [==============================] - 2s 2s/step                  (8 + 1) / 20]\n",
      "1/1 [==============================] - 2s 2s/step                  (9 + 1) / 20]\n",
      "1/1 [==============================] - 2s 2s/step                 (10 + 1) / 20]\n",
      "1/1 [==============================] - 2s 2s/step                 (11 + 1) / 20]\n",
      "1/1 [==============================] - 2s 2s/step                 (12 + 1) / 20]\n",
      "1/1 [==============================] - 2s 2s/step                 (13 + 1) / 20]\n",
      "1/1 [==============================] - 2s 2s/step>                (14 + 1) / 20]\n",
      "1/1 [==============================] - 2s 2s/step===>             (15 + 1) / 20]\n",
      "1/1 [==============================] - 2s 2s/step=====>           (16 + 1) / 20]\n",
      "1/1 [==============================] - 2s 2s/step========>        (17 + 1) / 20]\n",
      "1/1 [==============================] - 2s 2s/step===========>     (18 + 1) / 20]\n",
      "1/1 [==============================] - 2s 2s/step==============>  (19 + 1) / 20]\n",
      "                                                                                \r"
     ]
    }
   ],
   "source": [
    "data_to_keep.write.mode(\"overwrite\").parquet(PATH_Result)"
   ]
  },
  {
   "cell_type": "code",
   "execution_count": 27,
   "id": "085812ae",
   "metadata": {},
   "outputs": [],
   "source": [
    "df = pd.read_parquet(PATH_Result, engine='pyarrow')"
   ]
  },
  {
   "cell_type": "code",
   "execution_count": 28,
   "id": "b7dd94e1",
   "metadata": {},
   "outputs": [
    {
     "data": {
      "text/html": [
       "<div>\n",
       "<style scoped>\n",
       "    .dataframe tbody tr th:only-of-type {\n",
       "        vertical-align: middle;\n",
       "    }\n",
       "\n",
       "    .dataframe tbody tr th {\n",
       "        vertical-align: top;\n",
       "    }\n",
       "\n",
       "    .dataframe thead th {\n",
       "        text-align: right;\n",
       "    }\n",
       "</style>\n",
       "<table border=\"1\" class=\"dataframe\">\n",
       "  <thead>\n",
       "    <tr style=\"text-align: right;\">\n",
       "      <th></th>\n",
       "      <th>path</th>\n",
       "      <th>label</th>\n",
       "      <th>pca_features</th>\n",
       "    </tr>\n",
       "  </thead>\n",
       "  <tbody>\n",
       "    <tr>\n",
       "      <th>0</th>\n",
       "      <td>file:/home/faridkameche/Projet_8/jup_notebook/...</td>\n",
       "      <td>Apple Crimson Snow</td>\n",
       "      <td>[0.6420341557911649, 0.2850588794354392, -0.14...</td>\n",
       "    </tr>\n",
       "    <tr>\n",
       "      <th>1</th>\n",
       "      <td>file:/home/faridkameche/Projet_8/jup_notebook/...</td>\n",
       "      <td>Apple Crimson Snow</td>\n",
       "      <td>[-0.33249183595741355, 0.18036149425484463, -0...</td>\n",
       "    </tr>\n",
       "    <tr>\n",
       "      <th>2</th>\n",
       "      <td>file:/home/faridkameche/Projet_8/jup_notebook/...</td>\n",
       "      <td>Apple Braeburn</td>\n",
       "      <td>[-6.503162075937587, 0.13062661092468053, 0.03...</td>\n",
       "    </tr>\n",
       "    <tr>\n",
       "      <th>3</th>\n",
       "      <td>file:/home/faridkameche/Projet_8/jup_notebook/...</td>\n",
       "      <td>Apple Crimson Snow</td>\n",
       "      <td>[-0.16060056517923887, 0.20621745038656755, -0...</td>\n",
       "    </tr>\n",
       "    <tr>\n",
       "      <th>4</th>\n",
       "      <td>file:/home/faridkameche/Projet_8/jup_notebook/...</td>\n",
       "      <td>Apple Braeburn</td>\n",
       "      <td>[-6.726867938159116, -0.19763441302674584, -0....</td>\n",
       "    </tr>\n",
       "  </tbody>\n",
       "</table>\n",
       "</div>"
      ],
      "text/plain": [
       "                                                path               label  \\\n",
       "0  file:/home/faridkameche/Projet_8/jup_notebook/...  Apple Crimson Snow   \n",
       "1  file:/home/faridkameche/Projet_8/jup_notebook/...  Apple Crimson Snow   \n",
       "2  file:/home/faridkameche/Projet_8/jup_notebook/...      Apple Braeburn   \n",
       "3  file:/home/faridkameche/Projet_8/jup_notebook/...  Apple Crimson Snow   \n",
       "4  file:/home/faridkameche/Projet_8/jup_notebook/...      Apple Braeburn   \n",
       "\n",
       "                                        pca_features  \n",
       "0  [0.6420341557911649, 0.2850588794354392, -0.14...  \n",
       "1  [-0.33249183595741355, 0.18036149425484463, -0...  \n",
       "2  [-6.503162075937587, 0.13062661092468053, 0.03...  \n",
       "3  [-0.16060056517923887, 0.20621745038656755, -0...  \n",
       "4  [-6.726867938159116, -0.19763441302674584, -0....  "
      ]
     },
     "execution_count": 28,
     "metadata": {},
     "output_type": "execute_result"
    }
   ],
   "source": [
    "df.head()"
   ]
  },
  {
   "cell_type": "code",
   "execution_count": 29,
   "id": "e489487d",
   "metadata": {},
   "outputs": [
    {
     "data": {
      "text/plain": [
       "(67,)"
      ]
     },
     "execution_count": 29,
     "metadata": {},
     "output_type": "execute_result"
    }
   ],
   "source": [
    "df.loc[0,'pca_features'].shape"
   ]
  },
  {
   "cell_type": "code",
   "execution_count": 30,
   "id": "63631348",
   "metadata": {},
   "outputs": [
    {
     "data": {
      "text/plain": [
       "(373, 3)"
      ]
     },
     "execution_count": 30,
     "metadata": {},
     "output_type": "execute_result"
    }
   ],
   "source": [
    "df.shape"
   ]
  },
  {
   "cell_type": "code",
   "execution_count": 31,
   "id": "ff2c2cb6",
   "metadata": {},
   "outputs": [
    {
     "name": "stdout",
     "output_type": "stream",
     "text": [
      "<class 'pandas.core.frame.DataFrame'>\n",
      "RangeIndex: 373 entries, 0 to 372\n",
      "Data columns (total 3 columns):\n",
      " #   Column        Non-Null Count  Dtype \n",
      "---  ------        --------------  ----- \n",
      " 0   path          373 non-null    object\n",
      " 1   label         373 non-null    object\n",
      " 2   pca_features  373 non-null    object\n",
      "dtypes: object(3)\n",
      "memory usage: 8.9+ KB\n"
     ]
    }
   ],
   "source": [
    "df.info()"
   ]
  }
 ],
 "metadata": {
  "kernelspec": {
   "display_name": "Python 3 (ipykernel)",
   "language": "python",
   "name": "python3"
  },
  "language_info": {
   "codemirror_mode": {
    "name": "ipython",
    "version": 3
   },
   "file_extension": ".py",
   "mimetype": "text/x-python",
   "name": "python",
   "nbconvert_exporter": "python",
   "pygments_lexer": "ipython3",
   "version": "3.9.16"
  }
 },
 "nbformat": 4,
 "nbformat_minor": 5
}
